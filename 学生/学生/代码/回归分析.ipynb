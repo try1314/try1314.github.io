{
 "cells": [
  {
   "cell_type": "markdown",
   "id": "34f33cbb",
   "metadata": {},
   "source": [
    "\n",
    "# 回归预测分析实战\n"
   ]
  },
  {
   "cell_type": "markdown",
   "id": "c38fd7bb",
   "metadata": {},
   "source": [
    "针对目标预测列数据不平衡情况，安装imblearn包\n",
    "\n",
    "pip install imblearn"
   ]
  },
  {
   "cell_type": "code",
   "execution_count": 1,
   "id": "411c7a6e",
   "metadata": {},
   "outputs": [],
   "source": [
    "import pandas as pd\n",
    "import numpy as np\n",
    "import matplotlib.pyplot as plt\n",
    "\n",
    "from sklearn.preprocessing import StandardScaler\n",
    "from sklearn.preprocessing import MinMaxScaler\n",
    "\n",
    "from sklearn.feature_selection import SelectFromModel\n",
    "from sklearn.feature_selection import RFE\n",
    "from sklearn.feature_selection import SelectKBest\n",
    "from sklearn.feature_selection import f_regression\n",
    "\n",
    "from sklearn.linear_model import LinearRegression\n",
    "from sklearn.linear_model import Lasso,Ridge\n",
    "from sklearn.linear_model import LogisticRegression\n",
    "\n",
    "import statsmodels.api as sm\n",
    "import statsmodels.formula.api as smf\n",
    "from statsmodels.iolib.summary2 import summary_col\n",
    "\n",
    "from sklearn.model_selection import train_test_split\n",
    "from sklearn.model_selection import cross_validate\n",
    "from sklearn.model_selection import cross_val_predict\n",
    "from sklearn.model_selection import cross_val_score\n",
    "from sklearn.model_selection import GridSearchCV\n",
    "\n",
    "from sklearn.preprocessing import PolynomialFeatures\n",
    "from sklearn.pipeline import Pipeline\n",
    "\n",
    "from sklearn.metrics import confusion_matrix,accuracy_score,classification_report\n",
    "from sklearn.metrics import roc_auc_score,roc_curve,precision_score,recall_score\n",
    "from sklearn.metrics import f1_score,SCORERS\n",
    "from sklearn.metrics import mean_squared_error\n",
    "from sklearn.metrics import r2_score\n",
    "\n",
    "from imblearn.over_sampling import SMOTE\n",
    "\n",
    "import seaborn as sns\n",
    "\n",
    "from scipy.optimize import curve_fit\n",
    "\n",
    "%matplotlib inline\n",
    "\n",
    "plt.rcParams['font.sans-serif'] = ['SimHei']\n",
    "plt.rcParams['axes.unicode_minus']=False\n",
    "\n",
    "#import mglearn\n",
    "\n",
    "from sklearn.datasets import load_boston"
   ]
  },
  {
   "cell_type": "code",
   "execution_count": 5,
   "id": "eeb74e43",
   "metadata": {},
   "outputs": [
    {
     "data": {
      "text/html": [
       "<div>\n",
       "<style scoped>\n",
       "    .dataframe tbody tr th:only-of-type {\n",
       "        vertical-align: middle;\n",
       "    }\n",
       "\n",
       "    .dataframe tbody tr th {\n",
       "        vertical-align: top;\n",
       "    }\n",
       "\n",
       "    .dataframe thead th {\n",
       "        text-align: right;\n",
       "    }\n",
       "</style>\n",
       "<table border=\"1\" class=\"dataframe\">\n",
       "  <thead>\n",
       "    <tr style=\"text-align: right;\">\n",
       "      <th></th>\n",
       "      <th>生产总值</th>\n",
       "      <th>从业人员</th>\n",
       "      <th>固定资产</th>\n",
       "      <th>利用外资</th>\n",
       "      <th>进出口额</th>\n",
       "      <th>新品出口</th>\n",
       "      <th>市场占有</th>\n",
       "      <th>对外依存</th>\n",
       "    </tr>\n",
       "    <tr>\n",
       "      <th>地区</th>\n",
       "      <th></th>\n",
       "      <th></th>\n",
       "      <th></th>\n",
       "      <th></th>\n",
       "      <th></th>\n",
       "      <th></th>\n",
       "      <th></th>\n",
       "      <th></th>\n",
       "    </tr>\n",
       "  </thead>\n",
       "  <tbody>\n",
       "    <tr>\n",
       "      <th>北京</th>\n",
       "      <td>162.5193</td>\n",
       "      <td>1069.70</td>\n",
       "      <td>55.7893</td>\n",
       "      <td>196.906</td>\n",
       "      <td>3894.9</td>\n",
       "      <td>6470.514</td>\n",
       "      <td>2.6347</td>\n",
       "      <td>1.5479</td>\n",
       "    </tr>\n",
       "    <tr>\n",
       "      <th>天津</th>\n",
       "      <td>113.0728</td>\n",
       "      <td>763.16</td>\n",
       "      <td>70.6767</td>\n",
       "      <td>61.947</td>\n",
       "      <td>1033.9</td>\n",
       "      <td>7490.317</td>\n",
       "      <td>1.9862</td>\n",
       "      <td>0.5906</td>\n",
       "    </tr>\n",
       "    <tr>\n",
       "      <th>河北</th>\n",
       "      <td>245.1576</td>\n",
       "      <td>3962.42</td>\n",
       "      <td>163.8933</td>\n",
       "      <td>178.782</td>\n",
       "      <td>536.0</td>\n",
       "      <td>2288.188</td>\n",
       "      <td>1.2756</td>\n",
       "      <td>0.1412</td>\n",
       "    </tr>\n",
       "    <tr>\n",
       "      <th>山西</th>\n",
       "      <td>112.3755</td>\n",
       "      <td>1738.90</td>\n",
       "      <td>70.7306</td>\n",
       "      <td>104.945</td>\n",
       "      <td>147.6</td>\n",
       "      <td>1522.788</td>\n",
       "      <td>0.2424</td>\n",
       "      <td>0.0848</td>\n",
       "    </tr>\n",
       "    <tr>\n",
       "      <th>内蒙古</th>\n",
       "      <td>143.5988</td>\n",
       "      <td>1249.30</td>\n",
       "      <td>103.6517</td>\n",
       "      <td>54.426</td>\n",
       "      <td>119.4</td>\n",
       "      <td>342.358</td>\n",
       "      <td>0.2093</td>\n",
       "      <td>0.0537</td>\n",
       "    </tr>\n",
       "  </tbody>\n",
       "</table>\n",
       "</div>"
      ],
      "text/plain": [
       "         生产总值     从业人员      固定资产     利用外资    进出口额      新品出口    市场占有    对外依存\n",
       "地区                                                                         \n",
       "北京   162.5193  1069.70   55.7893  196.906  3894.9  6470.514  2.6347  1.5479\n",
       "天津   113.0728   763.16   70.6767   61.947  1033.9  7490.317  1.9862  0.5906\n",
       "河北   245.1576  3962.42  163.8933  178.782   536.0  2288.188  1.2756  0.1412\n",
       "山西   112.3755  1738.90   70.7306  104.945   147.6  1522.788  0.2424  0.0848\n",
       "内蒙古  143.5988  1249.30  103.6517   54.426   119.4   342.358  0.2093  0.0537"
      ]
     },
     "execution_count": 5,
     "metadata": {},
     "output_type": "execute_result"
    }
   ],
   "source": [
    "'''地区经济数据集'''\n",
    "econ_data = pd.read_excel('PyDm_data.xlsx','MVdata',index_col=0)\n",
    "econ_data.head()"
   ]
  },
  {
   "cell_type": "code",
   "execution_count": 6,
   "id": "001d421d",
   "metadata": {},
   "outputs": [
    {
     "data": {
      "text/html": [
       "<div>\n",
       "<style scoped>\n",
       "    .dataframe tbody tr th:only-of-type {\n",
       "        vertical-align: middle;\n",
       "    }\n",
       "\n",
       "    .dataframe tbody tr th {\n",
       "        vertical-align: top;\n",
       "    }\n",
       "\n",
       "    .dataframe thead th {\n",
       "        text-align: right;\n",
       "    }\n",
       "</style>\n",
       "<table border=\"1\" class=\"dataframe\">\n",
       "  <thead>\n",
       "    <tr style=\"text-align: right;\">\n",
       "      <th></th>\n",
       "      <th>Y</th>\n",
       "      <th>X1</th>\n",
       "      <th>X2</th>\n",
       "      <th>X3</th>\n",
       "      <th>X4</th>\n",
       "      <th>X5</th>\n",
       "      <th>X6</th>\n",
       "      <th>X7</th>\n",
       "    </tr>\n",
       "    <tr>\n",
       "      <th>地区</th>\n",
       "      <th></th>\n",
       "      <th></th>\n",
       "      <th></th>\n",
       "      <th></th>\n",
       "      <th></th>\n",
       "      <th></th>\n",
       "      <th></th>\n",
       "      <th></th>\n",
       "    </tr>\n",
       "  </thead>\n",
       "  <tbody>\n",
       "    <tr>\n",
       "      <th>北京</th>\n",
       "      <td>162.5193</td>\n",
       "      <td>1069.70</td>\n",
       "      <td>55.7893</td>\n",
       "      <td>196.906</td>\n",
       "      <td>3894.9</td>\n",
       "      <td>6470.514</td>\n",
       "      <td>2.6347</td>\n",
       "      <td>1.5479</td>\n",
       "    </tr>\n",
       "    <tr>\n",
       "      <th>天津</th>\n",
       "      <td>113.0728</td>\n",
       "      <td>763.16</td>\n",
       "      <td>70.6767</td>\n",
       "      <td>61.947</td>\n",
       "      <td>1033.9</td>\n",
       "      <td>7490.317</td>\n",
       "      <td>1.9862</td>\n",
       "      <td>0.5906</td>\n",
       "    </tr>\n",
       "    <tr>\n",
       "      <th>河北</th>\n",
       "      <td>245.1576</td>\n",
       "      <td>3962.42</td>\n",
       "      <td>163.8933</td>\n",
       "      <td>178.782</td>\n",
       "      <td>536.0</td>\n",
       "      <td>2288.188</td>\n",
       "      <td>1.2756</td>\n",
       "      <td>0.1412</td>\n",
       "    </tr>\n",
       "    <tr>\n",
       "      <th>山西</th>\n",
       "      <td>112.3755</td>\n",
       "      <td>1738.90</td>\n",
       "      <td>70.7306</td>\n",
       "      <td>104.945</td>\n",
       "      <td>147.6</td>\n",
       "      <td>1522.788</td>\n",
       "      <td>0.2424</td>\n",
       "      <td>0.0848</td>\n",
       "    </tr>\n",
       "    <tr>\n",
       "      <th>内蒙古</th>\n",
       "      <td>143.5988</td>\n",
       "      <td>1249.30</td>\n",
       "      <td>103.6517</td>\n",
       "      <td>54.426</td>\n",
       "      <td>119.4</td>\n",
       "      <td>342.358</td>\n",
       "      <td>0.2093</td>\n",
       "      <td>0.0537</td>\n",
       "    </tr>\n",
       "  </tbody>\n",
       "</table>\n",
       "</div>"
      ],
      "text/plain": [
       "            Y       X1        X2       X3      X4        X5      X6      X7\n",
       "地区                                                                         \n",
       "北京   162.5193  1069.70   55.7893  196.906  3894.9  6470.514  2.6347  1.5479\n",
       "天津   113.0728   763.16   70.6767   61.947  1033.9  7490.317  1.9862  0.5906\n",
       "河北   245.1576  3962.42  163.8933  178.782   536.0  2288.188  1.2756  0.1412\n",
       "山西   112.3755  1738.90   70.7306  104.945   147.6  1522.788  0.2424  0.0848\n",
       "内蒙古  143.5988  1249.30  103.6517   54.426   119.4   342.358  0.2093  0.0537"
      ]
     },
     "execution_count": 6,
     "metadata": {},
     "output_type": "execute_result"
    }
   ],
   "source": [
    "econ_data.columns = ['Y','X1','X2','X3','X4','X5','X6','X7']\n",
    "econ_data.head()"
   ]
  },
  {
   "cell_type": "code",
   "execution_count": 4,
   "id": "a8b41a09",
   "metadata": {},
   "outputs": [
    {
     "data": {
      "text/html": [
       "<div>\n",
       "<style scoped>\n",
       "    .dataframe tbody tr th:only-of-type {\n",
       "        vertical-align: middle;\n",
       "    }\n",
       "\n",
       "    .dataframe tbody tr th {\n",
       "        vertical-align: top;\n",
       "    }\n",
       "\n",
       "    .dataframe thead th {\n",
       "        text-align: right;\n",
       "    }\n",
       "</style>\n",
       "<table border=\"1\" class=\"dataframe\">\n",
       "  <thead>\n",
       "    <tr style=\"text-align: right;\">\n",
       "      <th></th>\n",
       "      <th>Y</th>\n",
       "      <th>X1</th>\n",
       "      <th>X2</th>\n",
       "      <th>X3</th>\n",
       "      <th>X4</th>\n",
       "      <th>X5</th>\n",
       "      <th>X6</th>\n",
       "      <th>X7</th>\n",
       "    </tr>\n",
       "  </thead>\n",
       "  <tbody>\n",
       "    <tr>\n",
       "      <th>Y</th>\n",
       "      <td>1.000</td>\n",
       "      <td>0.816</td>\n",
       "      <td>0.892</td>\n",
       "      <td>0.929</td>\n",
       "      <td>0.772</td>\n",
       "      <td>0.849</td>\n",
       "      <td>0.812</td>\n",
       "      <td>0.421</td>\n",
       "    </tr>\n",
       "    <tr>\n",
       "      <th>X1</th>\n",
       "      <td>0.816</td>\n",
       "      <td>1.000</td>\n",
       "      <td>0.857</td>\n",
       "      <td>0.696</td>\n",
       "      <td>0.387</td>\n",
       "      <td>0.511</td>\n",
       "      <td>0.463</td>\n",
       "      <td>0.011</td>\n",
       "    </tr>\n",
       "    <tr>\n",
       "      <th>X2</th>\n",
       "      <td>0.892</td>\n",
       "      <td>0.857</td>\n",
       "      <td>1.000</td>\n",
       "      <td>0.717</td>\n",
       "      <td>0.431</td>\n",
       "      <td>0.580</td>\n",
       "      <td>0.493</td>\n",
       "      <td>0.090</td>\n",
       "    </tr>\n",
       "    <tr>\n",
       "      <th>X3</th>\n",
       "      <td>0.929</td>\n",
       "      <td>0.696</td>\n",
       "      <td>0.717</td>\n",
       "      <td>1.000</td>\n",
       "      <td>0.878</td>\n",
       "      <td>0.854</td>\n",
       "      <td>0.869</td>\n",
       "      <td>0.614</td>\n",
       "    </tr>\n",
       "    <tr>\n",
       "      <th>X4</th>\n",
       "      <td>0.772</td>\n",
       "      <td>0.387</td>\n",
       "      <td>0.431</td>\n",
       "      <td>0.878</td>\n",
       "      <td>1.000</td>\n",
       "      <td>0.924</td>\n",
       "      <td>0.963</td>\n",
       "      <td>0.810</td>\n",
       "    </tr>\n",
       "    <tr>\n",
       "      <th>X5</th>\n",
       "      <td>0.849</td>\n",
       "      <td>0.511</td>\n",
       "      <td>0.580</td>\n",
       "      <td>0.854</td>\n",
       "      <td>0.924</td>\n",
       "      <td>1.000</td>\n",
       "      <td>0.970</td>\n",
       "      <td>0.565</td>\n",
       "    </tr>\n",
       "    <tr>\n",
       "      <th>X6</th>\n",
       "      <td>0.812</td>\n",
       "      <td>0.463</td>\n",
       "      <td>0.493</td>\n",
       "      <td>0.869</td>\n",
       "      <td>0.963</td>\n",
       "      <td>0.970</td>\n",
       "      <td>1.000</td>\n",
       "      <td>0.659</td>\n",
       "    </tr>\n",
       "    <tr>\n",
       "      <th>X7</th>\n",
       "      <td>0.421</td>\n",
       "      <td>0.011</td>\n",
       "      <td>0.090</td>\n",
       "      <td>0.614</td>\n",
       "      <td>0.810</td>\n",
       "      <td>0.565</td>\n",
       "      <td>0.659</td>\n",
       "      <td>1.000</td>\n",
       "    </tr>\n",
       "  </tbody>\n",
       "</table>\n",
       "</div>"
      ],
      "text/plain": [
       "        Y     X1     X2     X3     X4     X5     X6     X7\n",
       "Y   1.000  0.816  0.892  0.929  0.772  0.849  0.812  0.421\n",
       "X1  0.816  1.000  0.857  0.696  0.387  0.511  0.463  0.011\n",
       "X2  0.892  0.857  1.000  0.717  0.431  0.580  0.493  0.090\n",
       "X3  0.929  0.696  0.717  1.000  0.878  0.854  0.869  0.614\n",
       "X4  0.772  0.387  0.431  0.878  1.000  0.924  0.963  0.810\n",
       "X5  0.849  0.511  0.580  0.854  0.924  1.000  0.970  0.565\n",
       "X6  0.812  0.463  0.493  0.869  0.963  0.970  1.000  0.659\n",
       "X7  0.421  0.011  0.090  0.614  0.810  0.565  0.659  1.000"
      ]
     },
     "execution_count": 4,
     "metadata": {},
     "output_type": "execute_result"
    }
   ],
   "source": [
    "#econ_data.cov()\n",
    "round(econ_data.corr(),3)\n",
    "#econ_data[['Y','X1']].corr()"
   ]
  },
  {
   "cell_type": "code",
   "execution_count": 5,
   "id": "a2d0f38f",
   "metadata": {},
   "outputs": [
    {
     "data": {
      "text/plain": [
       "array([[<AxesSubplot:xlabel='Y', ylabel='Y'>,\n",
       "        <AxesSubplot:xlabel='X1', ylabel='Y'>,\n",
       "        <AxesSubplot:xlabel='X2', ylabel='Y'>,\n",
       "        <AxesSubplot:xlabel='X3', ylabel='Y'>,\n",
       "        <AxesSubplot:xlabel='X4', ylabel='Y'>,\n",
       "        <AxesSubplot:xlabel='X5', ylabel='Y'>,\n",
       "        <AxesSubplot:xlabel='X6', ylabel='Y'>,\n",
       "        <AxesSubplot:xlabel='X7', ylabel='Y'>],\n",
       "       [<AxesSubplot:xlabel='Y', ylabel='X1'>,\n",
       "        <AxesSubplot:xlabel='X1', ylabel='X1'>,\n",
       "        <AxesSubplot:xlabel='X2', ylabel='X1'>,\n",
       "        <AxesSubplot:xlabel='X3', ylabel='X1'>,\n",
       "        <AxesSubplot:xlabel='X4', ylabel='X1'>,\n",
       "        <AxesSubplot:xlabel='X5', ylabel='X1'>,\n",
       "        <AxesSubplot:xlabel='X6', ylabel='X1'>,\n",
       "        <AxesSubplot:xlabel='X7', ylabel='X1'>],\n",
       "       [<AxesSubplot:xlabel='Y', ylabel='X2'>,\n",
       "        <AxesSubplot:xlabel='X1', ylabel='X2'>,\n",
       "        <AxesSubplot:xlabel='X2', ylabel='X2'>,\n",
       "        <AxesSubplot:xlabel='X3', ylabel='X2'>,\n",
       "        <AxesSubplot:xlabel='X4', ylabel='X2'>,\n",
       "        <AxesSubplot:xlabel='X5', ylabel='X2'>,\n",
       "        <AxesSubplot:xlabel='X6', ylabel='X2'>,\n",
       "        <AxesSubplot:xlabel='X7', ylabel='X2'>],\n",
       "       [<AxesSubplot:xlabel='Y', ylabel='X3'>,\n",
       "        <AxesSubplot:xlabel='X1', ylabel='X3'>,\n",
       "        <AxesSubplot:xlabel='X2', ylabel='X3'>,\n",
       "        <AxesSubplot:xlabel='X3', ylabel='X3'>,\n",
       "        <AxesSubplot:xlabel='X4', ylabel='X3'>,\n",
       "        <AxesSubplot:xlabel='X5', ylabel='X3'>,\n",
       "        <AxesSubplot:xlabel='X6', ylabel='X3'>,\n",
       "        <AxesSubplot:xlabel='X7', ylabel='X3'>],\n",
       "       [<AxesSubplot:xlabel='Y', ylabel='X4'>,\n",
       "        <AxesSubplot:xlabel='X1', ylabel='X4'>,\n",
       "        <AxesSubplot:xlabel='X2', ylabel='X4'>,\n",
       "        <AxesSubplot:xlabel='X3', ylabel='X4'>,\n",
       "        <AxesSubplot:xlabel='X4', ylabel='X4'>,\n",
       "        <AxesSubplot:xlabel='X5', ylabel='X4'>,\n",
       "        <AxesSubplot:xlabel='X6', ylabel='X4'>,\n",
       "        <AxesSubplot:xlabel='X7', ylabel='X4'>],\n",
       "       [<AxesSubplot:xlabel='Y', ylabel='X5'>,\n",
       "        <AxesSubplot:xlabel='X1', ylabel='X5'>,\n",
       "        <AxesSubplot:xlabel='X2', ylabel='X5'>,\n",
       "        <AxesSubplot:xlabel='X3', ylabel='X5'>,\n",
       "        <AxesSubplot:xlabel='X4', ylabel='X5'>,\n",
       "        <AxesSubplot:xlabel='X5', ylabel='X5'>,\n",
       "        <AxesSubplot:xlabel='X6', ylabel='X5'>,\n",
       "        <AxesSubplot:xlabel='X7', ylabel='X5'>],\n",
       "       [<AxesSubplot:xlabel='Y', ylabel='X6'>,\n",
       "        <AxesSubplot:xlabel='X1', ylabel='X6'>,\n",
       "        <AxesSubplot:xlabel='X2', ylabel='X6'>,\n",
       "        <AxesSubplot:xlabel='X3', ylabel='X6'>,\n",
       "        <AxesSubplot:xlabel='X4', ylabel='X6'>,\n",
       "        <AxesSubplot:xlabel='X5', ylabel='X6'>,\n",
       "        <AxesSubplot:xlabel='X6', ylabel='X6'>,\n",
       "        <AxesSubplot:xlabel='X7', ylabel='X6'>],\n",
       "       [<AxesSubplot:xlabel='Y', ylabel='X7'>,\n",
       "        <AxesSubplot:xlabel='X1', ylabel='X7'>,\n",
       "        <AxesSubplot:xlabel='X2', ylabel='X7'>,\n",
       "        <AxesSubplot:xlabel='X3', ylabel='X7'>,\n",
       "        <AxesSubplot:xlabel='X4', ylabel='X7'>,\n",
       "        <AxesSubplot:xlabel='X5', ylabel='X7'>,\n",
       "        <AxesSubplot:xlabel='X6', ylabel='X7'>,\n",
       "        <AxesSubplot:xlabel='X7', ylabel='X7'>]], dtype=object)"
      ]
     },
     "execution_count": 5,
     "metadata": {},
     "output_type": "execute_result"
    },
    {
     "data": {
      "image/png": "[encoded data removed]",
      "text/plain": [
       "<Figure size 1080x1080 with 64 Axes>"
      ]
     },
     "metadata": {
      "needs_background": "light"
     },
     "output_type": "display_data"
    }
   ],
   "source": [
    "pd.plotting.scatter_matrix(econ_data,figsize=(15,15))"
   ]
  },
  {
   "cell_type": "code",
   "execution_count": 14,
   "id": "22bdd044",
   "metadata": {
    "scrolled": true
   },
   "outputs": [
    {
     "data": {
      "text/html": [
       "<div>\n",
       "<style scoped>\n",
       "    .dataframe tbody tr th:only-of-type {\n",
       "        vertical-align: middle;\n",
       "    }\n",
       "\n",
       "    .dataframe tbody tr th {\n",
       "        vertical-align: top;\n",
       "    }\n",
       "\n",
       "    .dataframe thead th {\n",
       "        text-align: right;\n",
       "    }\n",
       "</style>\n",
       "<table border=\"1\" class=\"dataframe\">\n",
       "  <thead>\n",
       "    <tr style=\"text-align: right;\">\n",
       "      <th></th>\n",
       "      <th>Churn</th>\n",
       "      <th>AccountWeeks</th>\n",
       "      <th>ContractRenewal</th>\n",
       "      <th>DataPlan</th>\n",
       "      <th>DataUsage</th>\n",
       "      <th>CustServCalls</th>\n",
       "      <th>DayMins</th>\n",
       "      <th>DayCalls</th>\n",
       "      <th>MonthlyCharge</th>\n",
       "      <th>OverageFee</th>\n",
       "      <th>RoamMins</th>\n",
       "    </tr>\n",
       "  </thead>\n",
       "  <tbody>\n",
       "    <tr>\n",
       "      <th>0</th>\n",
       "      <td>0</td>\n",
       "      <td>128</td>\n",
       "      <td>1</td>\n",
       "      <td>1</td>\n",
       "      <td>2.7</td>\n",
       "      <td>1</td>\n",
       "      <td>265.1</td>\n",
       "      <td>110</td>\n",
       "      <td>89.0</td>\n",
       "      <td>9.87</td>\n",
       "      <td>10.0</td>\n",
       "    </tr>\n",
       "    <tr>\n",
       "      <th>1</th>\n",
       "      <td>0</td>\n",
       "      <td>107</td>\n",
       "      <td>1</td>\n",
       "      <td>1</td>\n",
       "      <td>3.7</td>\n",
       "      <td>1</td>\n",
       "      <td>161.6</td>\n",
       "      <td>123</td>\n",
       "      <td>82.0</td>\n",
       "      <td>9.78</td>\n",
       "      <td>13.7</td>\n",
       "    </tr>\n",
       "    <tr>\n",
       "      <th>2</th>\n",
       "      <td>0</td>\n",
       "      <td>137</td>\n",
       "      <td>1</td>\n",
       "      <td>0</td>\n",
       "      <td>0.0</td>\n",
       "      <td>0</td>\n",
       "      <td>243.4</td>\n",
       "      <td>114</td>\n",
       "      <td>52.0</td>\n",
       "      <td>6.06</td>\n",
       "      <td>12.2</td>\n",
       "    </tr>\n",
       "    <tr>\n",
       "      <th>3</th>\n",
       "      <td>0</td>\n",
       "      <td>84</td>\n",
       "      <td>0</td>\n",
       "      <td>0</td>\n",
       "      <td>0.0</td>\n",
       "      <td>2</td>\n",
       "      <td>299.4</td>\n",
       "      <td>71</td>\n",
       "      <td>57.0</td>\n",
       "      <td>3.10</td>\n",
       "      <td>6.6</td>\n",
       "    </tr>\n",
       "    <tr>\n",
       "      <th>4</th>\n",
       "      <td>0</td>\n",
       "      <td>75</td>\n",
       "      <td>0</td>\n",
       "      <td>0</td>\n",
       "      <td>0.0</td>\n",
       "      <td>3</td>\n",
       "      <td>166.7</td>\n",
       "      <td>113</td>\n",
       "      <td>41.0</td>\n",
       "      <td>7.42</td>\n",
       "      <td>10.1</td>\n",
       "    </tr>\n",
       "  </tbody>\n",
       "</table>\n",
       "</div>"
      ],
      "text/plain": [
       "   Churn  AccountWeeks  ContractRenewal  DataPlan  DataUsage  CustServCalls  \\\n",
       "0      0           128                1         1        2.7              1   \n",
       "1      0           107                1         1        3.7              1   \n",
       "2      0           137                1         0        0.0              0   \n",
       "3      0            84                0         0        0.0              2   \n",
       "4      0            75                0         0        0.0              3   \n",
       "\n",
       "   DayMins  DayCalls  MonthlyCharge  OverageFee  RoamMins  \n",
       "0    265.1       110           89.0        9.87      10.0  \n",
       "1    161.6       123           82.0        9.78      13.7  \n",
       "2    243.4       114           52.0        6.06      12.2  \n",
       "3    299.4        71           57.0        3.10       6.6  \n",
       "4    166.7       113           41.0        7.42      10.1  "
      ]
     },
     "execution_count": 14,
     "metadata": {},
     "output_type": "execute_result"
    }
   ],
   "source": [
    "'''电信客户数据集'''\n",
    "churn_data = pd.read_csv('telecom_churn.csv',skipinitialspace=True)\n",
    "churn_data.head()"
   ]
  },
  {
   "cell_type": "code",
   "execution_count": 15,
   "id": "b15a66c2",
   "metadata": {},
   "outputs": [
    {
     "name": "stdout",
     "output_type": "stream",
     "text": [
      "<class 'pandas.core.frame.DataFrame'>\n",
      "RangeIndex: 3333 entries, 0 to 3332\n",
      "Data columns (total 11 columns):\n",
      " #   Column           Non-Null Count  Dtype  \n",
      "---  ------           --------------  -----  \n",
      " 0   Churn            3333 non-null   int64  \n",
      " 1   AccountWeeks     3333 non-null   int64  \n",
      " 2   ContractRenewal  3333 non-null   int64  \n",
      " 3   DataPlan         3333 non-null   int64  \n",
      " 4   DataUsage        3333 non-null   float64\n",
      " 5   CustServCalls    3333 non-null   int64  \n",
      " 6   DayMins          3333 non-null   float64\n",
      " 7   DayCalls         3333 non-null   int64  \n",
      " 8   MonthlyCharge    3333 non-null   float64\n",
      " 9   OverageFee       3333 non-null   float64\n",
      " 10  RoamMins         3333 non-null   float64\n",
      "dtypes: float64(5), int64(6)\n",
      "memory usage: 286.6 KB\n"
     ]
    }
   ],
   "source": [
    "churn_data.info()"
   ]
  },
  {
   "cell_type": "markdown",
   "id": "609e7936",
   "metadata": {},
   "source": [
    "full dataset features说明：\n",
    "\n",
    "- subscriberID=\"个人客户的ID\"\n",
    "\n",
    "- churn=\"是否流失：1=流失\";\n",
    "\n",
    "- Age=\"年龄\"\n",
    "\n",
    "- incomeCode=\"用户居住区域平均收入的代码\"\n",
    "\n",
    "- duration=\"在网时长\"\n",
    "\n",
    "- peakMinAv=\"统计期间内最高单月通话时长\"\n",
    "\n",
    "- peakMinDiff=\"统计期间结束月份与开始月份相比通话时长增加数量\"\n",
    "\n",
    "- posTrend=\"该用户通话时长是否呈现出上升态势：是=1\"\n",
    "\n",
    "- negTrend=\"该用户通话时长是否呈现出下降态势：是=1\"\n",
    "\n",
    "- nrProm=\"电话公司营销的数量\"\n",
    "\n",
    "- prom=\"最近一个月是否被营销过：是=1\"\n",
    "\n",
    "- curPlan=\"统计时间开始时套餐类型：1=最高通过200分钟；2=300分钟；3=350分钟；4=500分钟\"\n",
    "\n",
    "- avPlan=\"统计期间内平均套餐类型\"\n",
    "\n",
    "- planChange=\"统计结束时和开始时套餐的变化：正值代表套餐档次提升，负值代表下降，0代表不变\"\n",
    "\n",
    "- posPlanChange=\"统计期间是否提高套餐：1=是\"\n",
    "\n",
    "- negPlanChange=\"统计期间是否降低套餐：1=是\"\n",
    "\n",
    "- call_10086=\"拨打10086的次数\""
   ]
  },
  {
   "cell_type": "code",
   "execution_count": null,
   "id": "875272ad",
   "metadata": {},
   "outputs": [],
   "source": []
  },
  {
   "cell_type": "markdown",
   "id": "16df0e4c",
   "metadata": {},
   "source": [
    "## 一元线性回归模型"
   ]
  },
  {
   "cell_type": "code",
   "execution_count": 12,
   "id": "8a9ba955",
   "metadata": {},
   "outputs": [
    {
     "data": {
      "text/plain": [
       "const    13.904823\n",
       "X3        1.385851\n",
       "dtype: float64"
      ]
     },
     "execution_count": 12,
     "metadata": {},
     "output_type": "execute_result"
    }
   ],
   "source": [
    "y = econ_data.Y\n",
    "x = econ_data.X3\n",
    "'''add_constant:在一个 array 左侧加上一列 1'''\n",
    "fm1=sm.OLS(y,sm.add_constant(x,prepend=True)).fit()\n",
    "fm1.params"
   ]
  },
  {
   "cell_type": "code",
   "execution_count": 13,
   "id": "9d2d7910",
   "metadata": {},
   "outputs": [
    {
     "data": {
      "text/plain": [
       "[<matplotlib.lines.Line2D at 0x1da054b6f40>,\n",
       " <matplotlib.lines.Line2D at 0x1da054b6e80>]"
      ]
     },
     "execution_count": 13,
     "metadata": {},
     "output_type": "execute_result"
    },
    {
     "data": {
      "image/png": "[encoded data removed]",
      "text/plain": [
       "<Figure size 432x288 with 1 Axes>"
      ]
     },
     "metadata": {
      "needs_background": "light"
     },
     "output_type": "display_data"
    }
   ],
   "source": [
    "yfit=fm1.fittedvalues;\n",
    "plt.plot(x, y,'.',x,yfit, 'r-')"
   ]
  },
  {
   "cell_type": "code",
   "execution_count": 15,
   "id": "fdb438e1",
   "metadata": {},
   "outputs": [
    {
     "name": "stdout",
     "output_type": "stream",
     "text": [
      "const     0.923506\n",
      "X3       13.248189\n",
      "dtype: float64\n",
      "const    3.636341e-01\n",
      "X3       1.393866e-13\n",
      "dtype: float64\n"
     ]
    },
    {
     "data": {
      "text/html": [
       "<div>\n",
       "<style scoped>\n",
       "    .dataframe tbody tr th:only-of-type {\n",
       "        vertical-align: middle;\n",
       "    }\n",
       "\n",
       "    .dataframe tbody tr th {\n",
       "        vertical-align: top;\n",
       "    }\n",
       "\n",
       "    .dataframe thead th {\n",
       "        text-align: right;\n",
       "    }\n",
       "</style>\n",
       "<table border=\"1\" class=\"dataframe\">\n",
       "  <thead>\n",
       "    <tr style=\"text-align: right;\">\n",
       "      <th></th>\n",
       "      <th>b估计值</th>\n",
       "      <th>t值</th>\n",
       "      <th>p-value</th>\n",
       "    </tr>\n",
       "  </thead>\n",
       "  <tbody>\n",
       "    <tr>\n",
       "      <th>const</th>\n",
       "      <td>13.904823</td>\n",
       "      <td>0.923506</td>\n",
       "      <td>3.636341e-01</td>\n",
       "    </tr>\n",
       "    <tr>\n",
       "      <th>X3</th>\n",
       "      <td>1.385851</td>\n",
       "      <td>13.248189</td>\n",
       "      <td>1.393866e-13</td>\n",
       "    </tr>\n",
       "  </tbody>\n",
       "</table>\n",
       "</div>"
      ],
      "text/plain": [
       "            b估计值         t值       p-value\n",
       "const  13.904823   0.923506  3.636341e-01\n",
       "X3      1.385851  13.248189  1.393866e-13"
      ]
     },
     "execution_count": 15,
     "metadata": {},
     "output_type": "execute_result"
    }
   ],
   "source": [
    "'''一元线性回归模型的检验'''\n",
    "print(fm1.tvalues)\n",
    "print(fm1.pvalues)\n",
    "pd.DataFrame({'b估计值':fm1.params,'t值':fm1.tvalues,'p-value':fm1.pvalues})"
   ]
  },
  {
   "cell_type": "code",
   "execution_count": 17,
   "id": "9c824bce",
   "metadata": {},
   "outputs": [
    {
     "data": {
      "text/html": [
       "<div>\n",
       "<style scoped>\n",
       "    .dataframe tbody tr th:only-of-type {\n",
       "        vertical-align: middle;\n",
       "    }\n",
       "\n",
       "    .dataframe tbody tr th {\n",
       "        vertical-align: top;\n",
       "    }\n",
       "\n",
       "    .dataframe thead th {\n",
       "        text-align: right;\n",
       "    }\n",
       "</style>\n",
       "<table border=\"1\" class=\"dataframe\">\n",
       "  <thead>\n",
       "    <tr style=\"text-align: right;\">\n",
       "      <th></th>\n",
       "      <th>b估计值</th>\n",
       "      <th>t值</th>\n",
       "      <th>概率p</th>\n",
       "    </tr>\n",
       "  </thead>\n",
       "  <tbody>\n",
       "    <tr>\n",
       "      <th>Intercept</th>\n",
       "      <td>13.904823</td>\n",
       "      <td>0.923506</td>\n",
       "      <td>3.636341e-01</td>\n",
       "    </tr>\n",
       "    <tr>\n",
       "      <th>X3</th>\n",
       "      <td>1.385851</td>\n",
       "      <td>13.248189</td>\n",
       "      <td>1.393866e-13</td>\n",
       "    </tr>\n",
       "  </tbody>\n",
       "</table>\n",
       "</div>"
      ],
      "text/plain": [
       "                b估计值         t值           概率p\n",
       "Intercept  13.904823   0.923506  3.636341e-01\n",
       "X3          1.385851  13.248189  1.393866e-13"
      ]
     },
     "execution_count": 17,
     "metadata": {},
     "output_type": "execute_result"
    }
   ],
   "source": [
    "'''根据公式建回归模型'''\n",
    "fm2=smf.ols('Y~X3', econ_data).fit()\n",
    "pd.DataFrame({'b估计值':fm2.params,'t值':fm2.tvalues,'p-value':fm2.pvalues})"
   ]
  },
  {
   "cell_type": "code",
   "execution_count": 18,
   "id": "c35fa012",
   "metadata": {},
   "outputs": [
    {
     "name": "stdout",
     "output_type": "stream",
     "text": [
      "                     0                 1                    2         3\n",
      "0               Model:               OLS      Adj. R-squared:     0.858\n",
      "1  Dependent Variable:                 Y                 AIC:  321.0752\n",
      "2                Date:  2022-04-07 16:20                 BIC:  323.8776\n",
      "3    No. Observations:                30      Log-Likelihood:   -158.54\n",
      "4            Df Model:                 1         F-statistic:     175.5\n",
      "5        Df Residuals:                28  Prob (F-statistic):  1.39e-13\n",
      "6           R-squared:             0.862               Scale:    2441.3\n"
     ]
    },
    {
     "data": {
      "text/html": [
       "<div>\n",
       "<style scoped>\n",
       "    .dataframe tbody tr th:only-of-type {\n",
       "        vertical-align: middle;\n",
       "    }\n",
       "\n",
       "    .dataframe tbody tr th {\n",
       "        vertical-align: top;\n",
       "    }\n",
       "\n",
       "    .dataframe thead th {\n",
       "        text-align: right;\n",
       "    }\n",
       "</style>\n",
       "<table border=\"1\" class=\"dataframe\">\n",
       "  <thead>\n",
       "    <tr style=\"text-align: right;\">\n",
       "      <th></th>\n",
       "      <th>Coef.</th>\n",
       "      <th>Std.Err.</th>\n",
       "      <th>t</th>\n",
       "      <th>P&gt;|t|</th>\n",
       "      <th>[0.025</th>\n",
       "      <th>0.975]</th>\n",
       "    </tr>\n",
       "  </thead>\n",
       "  <tbody>\n",
       "    <tr>\n",
       "      <th>Intercept</th>\n",
       "      <td>13.904823</td>\n",
       "      <td>15.056563</td>\n",
       "      <td>0.923506</td>\n",
       "      <td>3.636341e-01</td>\n",
       "      <td>-16.937147</td>\n",
       "      <td>44.746794</td>\n",
       "    </tr>\n",
       "    <tr>\n",
       "      <th>X3</th>\n",
       "      <td>1.385851</td>\n",
       "      <td>0.104607</td>\n",
       "      <td>13.248189</td>\n",
       "      <td>1.393866e-13</td>\n",
       "      <td>1.171574</td>\n",
       "      <td>1.600129</td>\n",
       "    </tr>\n",
       "  </tbody>\n",
       "</table>\n",
       "</div>"
      ],
      "text/plain": [
       "               Coef.   Std.Err.          t         P>|t|     [0.025     0.975]\n",
       "Intercept  13.904823  15.056563   0.923506  3.636341e-01 -16.937147  44.746794\n",
       "X3          1.385851   0.104607  13.248189  1.393866e-13   1.171574   1.600129"
      ]
     },
     "execution_count": 18,
     "metadata": {},
     "output_type": "execute_result"
    }
   ],
   "source": [
    "'''回归系数检验表'''\n",
    "print(fm2.summary2().tables[0])\n",
    "fm2.summary2().tables[1]"
   ]
  },
  {
   "cell_type": "code",
   "execution_count": 19,
   "id": "9db9aa6e",
   "metadata": {},
   "outputs": [
    {
     "data": {
      "text/plain": [
       "[<matplotlib.lines.Line2D at 0x1da056b75e0>,\n",
       " <matplotlib.lines.Line2D at 0x1da056b76a0>]"
      ]
     },
     "execution_count": 19,
     "metadata": {},
     "output_type": "execute_result"
    },
    {
     "data": {
      "image/png": "[encoded data removed]",
      "text/plain": [
       "<Figure size 432x288 with 1 Axes>"
      ]
     },
     "metadata": {
      "needs_background": "light"
     },
     "output_type": "display_data"
    }
   ],
   "source": [
    "plt.plot(econ_data.X3,econ_data.Y,'.',econ_data.X3,fm2.fittedvalues,'r-')"
   ]
  },
  {
   "cell_type": "code",
   "execution_count": 20,
   "id": "7aa7861a",
   "metadata": {},
   "outputs": [
    {
     "data": {
      "text/plain": [
       "0     55.480363\n",
       "1    167.734318\n",
       "2    255.735876\n",
       "dtype: float64"
      ]
     },
     "execution_count": 20,
     "metadata": {},
     "output_type": "execute_result"
    }
   ],
   "source": [
    "'''一元线性回归模型的预测'''\n",
    "fm2.predict(pd.DataFrame({'X3': [30,111,174.5]}))"
   ]
  },
  {
   "cell_type": "markdown",
   "id": "c5c00092",
   "metadata": {},
   "source": [
    "## 多元线性回归模型"
   ]
  },
  {
   "cell_type": "code",
   "execution_count": 21,
   "id": "64c0d975",
   "metadata": {},
   "outputs": [
    {
     "data": {
      "text/html": [
       "<table class=\"simpletable\">\n",
       "<tr>\n",
       "        <td>Model:</td>               <td>OLS</td>         <td>Adj. R-squared:</td>     <td>0.653</td> \n",
       "</tr>\n",
       "<tr>\n",
       "  <td>Dependent Variable:</td>         <td>Y</td>               <td>AIC:</td>         <td>347.7627</td>\n",
       "</tr>\n",
       "<tr>\n",
       "         <td>Date:</td>        <td>2022-04-07 16:20</td>        <td>BIC:</td>         <td>350.5651</td>\n",
       "</tr>\n",
       "<tr>\n",
       "   <td>No. Observations:</td>         <td>30</td>          <td>Log-Likelihood:</td>    <td>-171.88</td>\n",
       "</tr>\n",
       "<tr>\n",
       "       <td>Df Model:</td>              <td>1</td>           <td>F-statistic:</td>       <td>55.61</td> \n",
       "</tr>\n",
       "<tr>\n",
       "     <td>Df Residuals:</td>           <td>28</td>        <td>Prob (F-statistic):</td> <td>4.02e-08</td>\n",
       "</tr>\n",
       "<tr>\n",
       "      <td>R-squared:</td>            <td>0.665</td>            <td>Scale:</td>         <td>5942.4</td> \n",
       "</tr>\n",
       "</table>\n",
       "<table class=\"simpletable\">\n",
       "<tr>\n",
       "      <td></td>       <th>Coef.</th>  <th>Std.Err.</th>    <th>t</th>    <th>P>|t|</th>  <th>[0.025</th>  <th>0.975]</th> \n",
       "</tr>\n",
       "<tr>\n",
       "  <th>Intercept</th> <td>14.6842</td>  <td>25.5399</td> <td>0.5750</td> <td>0.5699</td> <td>-37.6319</td> <td>67.0003</td>\n",
       "</tr>\n",
       "<tr>\n",
       "  <th>X1</th>        <td>0.0603</td>   <td>0.0081</td>  <td>7.4572</td> <td>0.0000</td>  <td>0.0438</td>  <td>0.0769</td> \n",
       "</tr>\n",
       "</table>\n",
       "<table class=\"simpletable\">\n",
       "<tr>\n",
       "     <td>Omnibus:</td>    <td>2.833</td>  <td>Durbin-Watson:</td>   <td>1.612</td>\n",
       "</tr>\n",
       "<tr>\n",
       "  <td>Prob(Omnibus):</td> <td>0.243</td> <td>Jarque-Bera (JB):</td> <td>2.029</td>\n",
       "</tr>\n",
       "<tr>\n",
       "       <td>Skew:</td>     <td>0.637</td>     <td>Prob(JB):</td>     <td>0.363</td>\n",
       "</tr>\n",
       "<tr>\n",
       "     <td>Kurtosis:</td>   <td>3.031</td>  <td>Condition No.:</td>   <td>5728</td> \n",
       "</tr>\n",
       "</table>"
      ],
      "text/plain": [
       "<class 'statsmodels.iolib.summary2.Summary'>\n",
       "\"\"\"\n",
       "                 Results: Ordinary least squares\n",
       "=================================================================\n",
       "Model:              OLS              Adj. R-squared:     0.653   \n",
       "Dependent Variable: Y                AIC:                347.7627\n",
       "Date:               2022-04-07 16:20 BIC:                350.5651\n",
       "No. Observations:   30               Log-Likelihood:     -171.88 \n",
       "Df Model:           1                F-statistic:        55.61   \n",
       "Df Residuals:       28               Prob (F-statistic): 4.02e-08\n",
       "R-squared:          0.665            Scale:              5942.4  \n",
       "------------------------------------------------------------------\n",
       "               Coef.   Std.Err.    t     P>|t|    [0.025    0.975]\n",
       "------------------------------------------------------------------\n",
       "Intercept     14.6842   25.5399  0.5750  0.5699  -37.6319  67.0003\n",
       "X1             0.0603    0.0081  7.4572  0.0000    0.0438   0.0769\n",
       "-----------------------------------------------------------------\n",
       "Omnibus:              2.833        Durbin-Watson:           1.612\n",
       "Prob(Omnibus):        0.243        Jarque-Bera (JB):        2.029\n",
       "Skew:                 0.637        Prob(JB):                0.363\n",
       "Kurtosis:             3.031        Condition No.:           5728 \n",
       "=================================================================\n",
       "* The condition number is large (6e+03). This might indicate\n",
       "strong multicollinearity or other numerical problems.\n",
       "\"\"\""
      ]
     },
     "execution_count": 21,
     "metadata": {},
     "output_type": "execute_result"
    }
   ],
   "source": [
    "M1 = smf.ols('Y~X1',econ_data).fit()\n",
    "M1.params\n",
    "M1.summary2()#summary()"
   ]
  },
  {
   "cell_type": "code",
   "execution_count": 22,
   "id": "86b8eb5b",
   "metadata": {},
   "outputs": [
    {
     "data": {
      "text/html": [
       "<table class=\"simpletable\">\n",
       "<tr>\n",
       "        <td>Model:</td>               <td>OLS</td>         <td>Adj. R-squared:</td>     <td>0.791</td> \n",
       "</tr>\n",
       "<tr>\n",
       "  <td>Dependent Variable:</td>         <td>Y</td>               <td>AIC:</td>         <td>333.4353</td>\n",
       "</tr>\n",
       "<tr>\n",
       "         <td>Date:</td>        <td>2022-04-07 16:20</td>        <td>BIC:</td>         <td>337.6389</td>\n",
       "</tr>\n",
       "<tr>\n",
       "   <td>No. Observations:</td>         <td>30</td>          <td>Log-Likelihood:</td>    <td>-163.72</td>\n",
       "</tr>\n",
       "<tr>\n",
       "       <td>Df Model:</td>              <td>2</td>           <td>F-statistic:</td>       <td>55.97</td> \n",
       "</tr>\n",
       "<tr>\n",
       "     <td>Df Residuals:</td>           <td>27</td>        <td>Prob (F-statistic):</td> <td>2.48e-10</td>\n",
       "</tr>\n",
       "<tr>\n",
       "      <td>R-squared:</td>            <td>0.806</td>            <td>Scale:</td>         <td>3576.0</td> \n",
       "</tr>\n",
       "</table>\n",
       "<table class=\"simpletable\">\n",
       "<tr>\n",
       "      <td></td>        <th>Coef.</th>  <th>Std.Err.</th>    <th>t</th>     <th>P>|t|</th>  <th>[0.025</th>  <th>0.975]</th> \n",
       "</tr>\n",
       "<tr>\n",
       "  <th>Intercept</th> <td>-12.4511</td>  <td>20.7420</td> <td>-0.6003</td> <td>0.5533</td> <td>-55.0100</td> <td>30.1079</td>\n",
       "</tr>\n",
       "<tr>\n",
       "  <th>X1</th>         <td>0.0142</td>   <td>0.0122</td>  <td>1.1689</td>  <td>0.2527</td>  <td>-0.0107</td> <td>0.0392</td> \n",
       "</tr>\n",
       "<tr>\n",
       "  <th>X2</th>         <td>1.4599</td>   <td>0.3304</td>  <td>4.4192</td>  <td>0.0001</td>  <td>0.7821</td>  <td>2.1377</td> \n",
       "</tr>\n",
       "</table>\n",
       "<table class=\"simpletable\">\n",
       "<tr>\n",
       "     <td>Omnibus:</td>    <td>25.116</td>  <td>Durbin-Watson:</td>    <td>1.910</td>\n",
       "</tr>\n",
       "<tr>\n",
       "  <td>Prob(Omnibus):</td>  <td>0.000</td> <td>Jarque-Bera (JB):</td> <td>43.075</td>\n",
       "</tr>\n",
       "<tr>\n",
       "       <td>Skew:</td>      <td>1.941</td>     <td>Prob(JB):</td>      <td>0.000</td>\n",
       "</tr>\n",
       "<tr>\n",
       "     <td>Kurtosis:</td>    <td>7.403</td>  <td>Condition No.:</td>    <td>6001</td> \n",
       "</tr>\n",
       "</table>"
      ],
      "text/plain": [
       "<class 'statsmodels.iolib.summary2.Summary'>\n",
       "\"\"\"\n",
       "                 Results: Ordinary least squares\n",
       "=================================================================\n",
       "Model:              OLS              Adj. R-squared:     0.791   \n",
       "Dependent Variable: Y                AIC:                333.4353\n",
       "Date:               2022-04-07 16:20 BIC:                337.6389\n",
       "No. Observations:   30               Log-Likelihood:     -163.72 \n",
       "Df Model:           2                F-statistic:        55.97   \n",
       "Df Residuals:       27               Prob (F-statistic): 2.48e-10\n",
       "R-squared:          0.806            Scale:              3576.0  \n",
       "------------------------------------------------------------------\n",
       "             Coef.    Std.Err.     t     P>|t|    [0.025    0.975]\n",
       "------------------------------------------------------------------\n",
       "Intercept   -12.4511   20.7420  -0.6003  0.5533  -55.0100  30.1079\n",
       "X1            0.0142    0.0122   1.1689  0.2527   -0.0107   0.0392\n",
       "X2            1.4599    0.3304   4.4192  0.0001    0.7821   2.1377\n",
       "-----------------------------------------------------------------\n",
       "Omnibus:              25.116       Durbin-Watson:          1.910 \n",
       "Prob(Omnibus):        0.000        Jarque-Bera (JB):       43.075\n",
       "Skew:                 1.941        Prob(JB):               0.000 \n",
       "Kurtosis:             7.403        Condition No.:          6001  \n",
       "=================================================================\n",
       "* The condition number is large (6e+03). This might indicate\n",
       "strong multicollinearity or other numerical problems.\n",
       "\"\"\""
      ]
     },
     "execution_count": 22,
     "metadata": {},
     "output_type": "execute_result"
    }
   ],
   "source": [
    "M2 = smf.ols('Y~X1+X2',econ_data).fit()\n",
    "M2.params\n",
    "M2.summary2()"
   ]
  },
  {
   "cell_type": "code",
   "execution_count": 23,
   "id": "a432485d",
   "metadata": {},
   "outputs": [
    {
     "data": {
      "text/html": [
       "<table class=\"simpletable\">\n",
       "<tr>\n",
       "        <td>Model:</td>               <td>OLS</td>         <td>Adj. R-squared:</td>     <td>0.964</td> \n",
       "</tr>\n",
       "<tr>\n",
       "  <td>Dependent Variable:</td>         <td>Y</td>               <td>AIC:</td>         <td>281.6542</td>\n",
       "</tr>\n",
       "<tr>\n",
       "         <td>Date:</td>        <td>2022-04-07 16:20</td>        <td>BIC:</td>         <td>287.2590</td>\n",
       "</tr>\n",
       "<tr>\n",
       "   <td>No. Observations:</td>         <td>30</td>          <td>Log-Likelihood:</td>    <td>-136.83</td>\n",
       "</tr>\n",
       "<tr>\n",
       "       <td>Df Model:</td>              <td>3</td>           <td>F-statistic:</td>       <td>259.2</td> \n",
       "</tr>\n",
       "<tr>\n",
       "     <td>Df Residuals:</td>           <td>26</td>        <td>Prob (F-statistic):</td> <td>1.76e-19</td>\n",
       "</tr>\n",
       "<tr>\n",
       "      <td>R-squared:</td>            <td>0.968</td>            <td>Scale:</td>         <td>618.34</td> \n",
       "</tr>\n",
       "</table>\n",
       "<table class=\"simpletable\">\n",
       "<tr>\n",
       "      <td></td>        <th>Coef.</th>  <th>Std.Err.</th>    <th>t</th>     <th>P>|t|</th>  <th>[0.025</th>  <th>0.975]</th> \n",
       "</tr>\n",
       "<tr>\n",
       "  <th>Intercept</th> <td>-23.9232</td>  <td>8.6835</td>  <td>-2.7550</td> <td>0.0106</td> <td>-41.7724</td> <td>-6.0739</td>\n",
       "</tr>\n",
       "<tr>\n",
       "  <th>X1</th>         <td>0.0007</td>   <td>0.0052</td>  <td>0.1376</td>  <td>0.8916</td>  <td>-0.0100</td> <td>0.0114</td> \n",
       "</tr>\n",
       "<tr>\n",
       "  <th>X2</th>         <td>0.9201</td>   <td>0.1453</td>  <td>6.3327</td>  <td>0.0000</td>  <td>0.6214</td>  <td>1.2187</td> \n",
       "</tr>\n",
       "<tr>\n",
       "  <th>X3</th>         <td>0.8852</td>   <td>0.0776</td>  <td>11.4082</td> <td>0.0000</td>  <td>0.7257</td>  <td>1.0447</td> \n",
       "</tr>\n",
       "</table>\n",
       "<table class=\"simpletable\">\n",
       "<tr>\n",
       "     <td>Omnibus:</td>     <td>3.524</td>  <td>Durbin-Watson:</td>   <td>2.149</td>\n",
       "</tr>\n",
       "<tr>\n",
       "  <td>Prob(Omnibus):</td>  <td>0.172</td> <td>Jarque-Bera (JB):</td> <td>2.910</td>\n",
       "</tr>\n",
       "<tr>\n",
       "       <td>Skew:</td>     <td>-0.758</td>     <td>Prob(JB):</td>     <td>0.233</td>\n",
       "</tr>\n",
       "<tr>\n",
       "     <td>Kurtosis:</td>    <td>2.829</td>  <td>Condition No.:</td>   <td>6047</td> \n",
       "</tr>\n",
       "</table>"
      ],
      "text/plain": [
       "<class 'statsmodels.iolib.summary2.Summary'>\n",
       "\"\"\"\n",
       "                 Results: Ordinary least squares\n",
       "=================================================================\n",
       "Model:              OLS              Adj. R-squared:     0.964   \n",
       "Dependent Variable: Y                AIC:                281.6542\n",
       "Date:               2022-04-07 16:20 BIC:                287.2590\n",
       "No. Observations:   30               Log-Likelihood:     -136.83 \n",
       "Df Model:           3                F-statistic:        259.2   \n",
       "Df Residuals:       26               Prob (F-statistic): 1.76e-19\n",
       "R-squared:          0.968            Scale:              618.34  \n",
       "------------------------------------------------------------------\n",
       "             Coef.    Std.Err.     t     P>|t|    [0.025    0.975]\n",
       "------------------------------------------------------------------\n",
       "Intercept   -23.9232    8.6835  -2.7550  0.0106  -41.7724  -6.0739\n",
       "X1            0.0007    0.0052   0.1376  0.8916   -0.0100   0.0114\n",
       "X2            0.9201    0.1453   6.3327  0.0000    0.6214   1.2187\n",
       "X3            0.8852    0.0776  11.4082  0.0000    0.7257   1.0447\n",
       "-----------------------------------------------------------------\n",
       "Omnibus:               3.524        Durbin-Watson:          2.149\n",
       "Prob(Omnibus):         0.172        Jarque-Bera (JB):       2.910\n",
       "Skew:                  -0.758       Prob(JB):               0.233\n",
       "Kurtosis:              2.829        Condition No.:          6047 \n",
       "=================================================================\n",
       "* The condition number is large (6e+03). This might indicate\n",
       "strong multicollinearity or other numerical problems.\n",
       "\"\"\""
      ]
     },
     "execution_count": 23,
     "metadata": {},
     "output_type": "execute_result"
    }
   ],
   "source": [
    "M3 = smf.ols('Y~X1+X2+X3',econ_data).fit()\n",
    "M3.params\n",
    "M3.summary2()"
   ]
  },
  {
   "cell_type": "code",
   "execution_count": 24,
   "id": "72327d53",
   "metadata": {},
   "outputs": [
    {
     "data": {
      "text/html": [
       "<table class=\"simpletable\">\n",
       "<tr>\n",
       "        <td>Model:</td>               <td>OLS</td>         <td>Adj. R-squared:</td>     <td>0.988</td> \n",
       "</tr>\n",
       "<tr>\n",
       "  <td>Dependent Variable:</td>         <td>Y</td>               <td>AIC:</td>         <td>250.5609</td>\n",
       "</tr>\n",
       "<tr>\n",
       "         <td>Date:</td>        <td>2022-04-07 16:20</td>        <td>BIC:</td>         <td>258.9681</td>\n",
       "</tr>\n",
       "<tr>\n",
       "   <td>No. Observations:</td>         <td>30</td>          <td>Log-Likelihood:</td>    <td>-119.28</td>\n",
       "</tr>\n",
       "<tr>\n",
       "       <td>Df Model:</td>              <td>5</td>           <td>F-statistic:</td>       <td>473.0</td> \n",
       "</tr>\n",
       "<tr>\n",
       "     <td>Df Residuals:</td>           <td>24</td>        <td>Prob (F-statistic):</td> <td>3.77e-23</td>\n",
       "</tr>\n",
       "<tr>\n",
       "      <td>R-squared:</td>            <td>0.990</td>            <td>Scale:</td>         <td>207.95</td> \n",
       "</tr>\n",
       "</table>\n",
       "<table class=\"simpletable\">\n",
       "<tr>\n",
       "      <td></td>       <th>Coef.</th>  <th>Std.Err.</th>    <th>t</th>     <th>P>|t|</th>  <th>[0.025</th>  <th>0.975]</th>\n",
       "</tr>\n",
       "<tr>\n",
       "  <th>Intercept</th> <td>-4.8114</td>  <td>5.8162</td>  <td>-0.8272</td> <td>0.4162</td> <td>-16.8155</td> <td>7.1927</td>\n",
       "</tr>\n",
       "<tr>\n",
       "  <th>X1</th>        <td>0.0088</td>   <td>0.0034</td>  <td>2.6065</td>  <td>0.0155</td>  <td>0.0018</td>  <td>0.0157</td>\n",
       "</tr>\n",
       "<tr>\n",
       "  <th>X2</th>        <td>0.9695</td>   <td>0.0967</td>  <td>10.0243</td> <td>0.0000</td>  <td>0.7699</td>  <td>1.1691</td>\n",
       "</tr>\n",
       "<tr>\n",
       "  <th>X3</th>        <td>0.2500</td>   <td>0.1246</td>  <td>2.0068</td>  <td>0.0562</td>  <td>-0.0071</td> <td>0.5072</td>\n",
       "</tr>\n",
       "<tr>\n",
       "  <th>X4</th>        <td>0.0146</td>   <td>0.0062</td>  <td>2.3797</td>  <td>0.0256</td>  <td>0.0019</td>  <td>0.0274</td>\n",
       "</tr>\n",
       "<tr>\n",
       "  <th>X5</th>        <td>0.0015</td>   <td>0.0007</td>  <td>2.2452</td>  <td>0.0342</td>  <td>0.0001</td>  <td>0.0029</td>\n",
       "</tr>\n",
       "</table>\n",
       "<table class=\"simpletable\">\n",
       "<tr>\n",
       "     <td>Omnibus:</td>     <td>0.211</td>  <td>Durbin-Watson:</td>   <td>2.461</td>\n",
       "</tr>\n",
       "<tr>\n",
       "  <td>Prob(Omnibus):</td>  <td>0.900</td> <td>Jarque-Bera (JB):</td> <td>0.218</td>\n",
       "</tr>\n",
       "<tr>\n",
       "       <td>Skew:</td>     <td>-0.167</td>     <td>Prob(JB):</td>     <td>0.897</td>\n",
       "</tr>\n",
       "<tr>\n",
       "     <td>Kurtosis:</td>    <td>2.751</td>  <td>Condition No.:</td>   <td>33061</td>\n",
       "</tr>\n",
       "</table>"
      ],
      "text/plain": [
       "<class 'statsmodels.iolib.summary2.Summary'>\n",
       "\"\"\"\n",
       "                 Results: Ordinary least squares\n",
       "=================================================================\n",
       "Model:              OLS              Adj. R-squared:     0.988   \n",
       "Dependent Variable: Y                AIC:                250.5609\n",
       "Date:               2022-04-07 16:20 BIC:                258.9681\n",
       "No. Observations:   30               Log-Likelihood:     -119.28 \n",
       "Df Model:           5                F-statistic:        473.0   \n",
       "Df Residuals:       24               Prob (F-statistic): 3.77e-23\n",
       "R-squared:          0.990            Scale:              207.95  \n",
       "------------------------------------------------------------------\n",
       "               Coef.   Std.Err.     t     P>|t|    [0.025   0.975]\n",
       "------------------------------------------------------------------\n",
       "Intercept     -4.8114    5.8162  -0.8272  0.4162  -16.8155  7.1927\n",
       "X1             0.0088    0.0034   2.6065  0.0155    0.0018  0.0157\n",
       "X2             0.9695    0.0967  10.0243  0.0000    0.7699  1.1691\n",
       "X3             0.2500    0.1246   2.0068  0.0562   -0.0071  0.5072\n",
       "X4             0.0146    0.0062   2.3797  0.0256    0.0019  0.0274\n",
       "X5             0.0015    0.0007   2.2452  0.0342    0.0001  0.0029\n",
       "-----------------------------------------------------------------\n",
       "Omnibus:               0.211        Durbin-Watson:          2.461\n",
       "Prob(Omnibus):         0.900        Jarque-Bera (JB):       0.218\n",
       "Skew:                  -0.167       Prob(JB):               0.897\n",
       "Kurtosis:              2.751        Condition No.:          33061\n",
       "=================================================================\n",
       "* The condition number is large (3e+04). This might indicate\n",
       "strong multicollinearity or other numerical problems.\n",
       "\"\"\""
      ]
     },
     "execution_count": 24,
     "metadata": {},
     "output_type": "execute_result"
    }
   ],
   "source": [
    "M4 = smf.ols('Y~X1+X2+X3+X4+X5',econ_data).fit()\n",
    "M4.summary2()"
   ]
  },
  {
   "cell_type": "code",
   "execution_count": 25,
   "id": "e3dbd826",
   "metadata": {},
   "outputs": [
    {
     "data": {
      "text/html": [
       "<table class=\"simpletable\">\n",
       "<tr>\n",
       "        <td>Model:</td>               <td>OLS</td>         <td>Adj. R-squared:</td>     <td>0.988</td> \n",
       "</tr>\n",
       "<tr>\n",
       "  <td>Dependent Variable:</td>         <td>Y</td>               <td>AIC:</td>         <td>252.7118</td>\n",
       "</tr>\n",
       "<tr>\n",
       "         <td>Date:</td>        <td>2022-04-07 16:20</td>        <td>BIC:</td>         <td>263.9214</td>\n",
       "</tr>\n",
       "<tr>\n",
       "   <td>No. Observations:</td>         <td>30</td>          <td>Log-Likelihood:</td>    <td>-118.36</td>\n",
       "</tr>\n",
       "<tr>\n",
       "       <td>Df Model:</td>              <td>7</td>           <td>F-statistic:</td>       <td>329.6</td> \n",
       "</tr>\n",
       "<tr>\n",
       "     <td>Df Residuals:</td>           <td>22</td>        <td>Prob (F-statistic):</td> <td>9.08e-21</td>\n",
       "</tr>\n",
       "<tr>\n",
       "      <td>R-squared:</td>            <td>0.991</td>            <td>Scale:</td>         <td>213.29</td> \n",
       "</tr>\n",
       "</table>\n",
       "<table class=\"simpletable\">\n",
       "<tr>\n",
       "      <td></td>       <th>Coef.</th>  <th>Std.Err.</th>    <th>t</th>     <th>P>|t|</th>  <th>[0.025</th>  <th>0.975]</th> \n",
       "</tr>\n",
       "<tr>\n",
       "  <th>Intercept</th> <td>-7.1381</td>  <td>7.2431</td>  <td>-0.9855</td> <td>0.3351</td> <td>-22.1594</td> <td>7.8833</td> \n",
       "</tr>\n",
       "<tr>\n",
       "  <th>X1</th>        <td>0.0085</td>   <td>0.0037</td>  <td>2.2767</td>  <td>0.0329</td>  <td>0.0008</td>  <td>0.0162</td> \n",
       "</tr>\n",
       "<tr>\n",
       "  <th>X2</th>        <td>0.9983</td>   <td>0.1067</td>  <td>9.3544</td>  <td>0.0000</td>  <td>0.7770</td>  <td>1.2196</td> \n",
       "</tr>\n",
       "<tr>\n",
       "  <th>X3</th>        <td>0.2384</td>   <td>0.1269</td>  <td>1.8786</td>  <td>0.0736</td>  <td>-0.0248</td> <td>0.5017</td> \n",
       "</tr>\n",
       "<tr>\n",
       "  <th>X4</th>        <td>0.0069</td>   <td>0.0122</td>  <td>0.5657</td>  <td>0.5773</td>  <td>-0.0184</td> <td>0.0323</td> \n",
       "</tr>\n",
       "<tr>\n",
       "  <th>X5</th>        <td>0.0009</td>   <td>0.0012</td>  <td>0.7479</td>  <td>0.4624</td>  <td>-0.0016</td> <td>0.0034</td> \n",
       "</tr>\n",
       "<tr>\n",
       "  <th>X6</th>        <td>4.0465</td>   <td>3.4358</td>  <td>1.1777</td>  <td>0.2515</td>  <td>-3.0789</td> <td>11.1719</td>\n",
       "</tr>\n",
       "<tr>\n",
       "  <th>X7</th>        <td>10.2607</td>  <td>23.4872</td> <td>0.4369</td>  <td>0.6665</td> <td>-38.4488</td> <td>58.9702</td>\n",
       "</tr>\n",
       "</table>\n",
       "<table class=\"simpletable\">\n",
       "<tr>\n",
       "     <td>Omnibus:</td>     <td>1.261</td>  <td>Durbin-Watson:</td>    <td>2.370</td>\n",
       "</tr>\n",
       "<tr>\n",
       "  <td>Prob(Omnibus):</td>  <td>0.532</td> <td>Jarque-Bera (JB):</td>  <td>0.425</td>\n",
       "</tr>\n",
       "<tr>\n",
       "       <td>Skew:</td>     <td>-0.231</td>     <td>Prob(JB):</td>      <td>0.809</td>\n",
       "</tr>\n",
       "<tr>\n",
       "     <td>Kurtosis:</td>    <td>3.355</td>  <td>Condition No.:</td>   <td>134156</td>\n",
       "</tr>\n",
       "</table>"
      ],
      "text/plain": [
       "<class 'statsmodels.iolib.summary2.Summary'>\n",
       "\"\"\"\n",
       "                 Results: Ordinary least squares\n",
       "=================================================================\n",
       "Model:              OLS              Adj. R-squared:     0.988   \n",
       "Dependent Variable: Y                AIC:                252.7118\n",
       "Date:               2022-04-07 16:20 BIC:                263.9214\n",
       "No. Observations:   30               Log-Likelihood:     -118.36 \n",
       "Df Model:           7                F-statistic:        329.6   \n",
       "Df Residuals:       22               Prob (F-statistic): 9.08e-21\n",
       "R-squared:          0.991            Scale:              213.29  \n",
       "------------------------------------------------------------------\n",
       "              Coef.   Std.Err.     t     P>|t|    [0.025    0.975]\n",
       "------------------------------------------------------------------\n",
       "Intercept    -7.1381    7.2431  -0.9855  0.3351  -22.1594   7.8833\n",
       "X1            0.0085    0.0037   2.2767  0.0329    0.0008   0.0162\n",
       "X2            0.9983    0.1067   9.3544  0.0000    0.7770   1.2196\n",
       "X3            0.2384    0.1269   1.8786  0.0736   -0.0248   0.5017\n",
       "X4            0.0069    0.0122   0.5657  0.5773   -0.0184   0.0323\n",
       "X5            0.0009    0.0012   0.7479  0.4624   -0.0016   0.0034\n",
       "X6            4.0465    3.4358   1.1777  0.2515   -3.0789  11.1719\n",
       "X7           10.2607   23.4872   0.4369  0.6665  -38.4488  58.9702\n",
       "-----------------------------------------------------------------\n",
       "Omnibus:              1.261        Durbin-Watson:          2.370 \n",
       "Prob(Omnibus):        0.532        Jarque-Bera (JB):       0.425 \n",
       "Skew:                 -0.231       Prob(JB):               0.809 \n",
       "Kurtosis:             3.355        Condition No.:          134156\n",
       "=================================================================\n",
       "* The condition number is large (1e+05). This might indicate\n",
       "strong multicollinearity or other numerical problems.\n",
       "\"\"\""
      ]
     },
     "execution_count": 25,
     "metadata": {},
     "output_type": "execute_result"
    }
   ],
   "source": [
    "M_full=smf.ols('Y~X1+X2+X3+X4+X5+X6+X7',econ_data).fit()\n",
    "M_full.params\n",
    "M_full.summary2()"
   ]
  },
  {
   "cell_type": "code",
   "execution_count": 26,
   "id": "db9675da",
   "metadata": {},
   "outputs": [
    {
     "data": {
      "text/plain": [
       "地区\n",
       "北京     -1.425285\n",
       "天津      0.364283\n",
       "河北     -0.008865\n",
       "山西      4.852374\n",
       "内蒙古    21.134311\n",
       "辽宁    -27.157561\n",
       "吉林      8.649295\n",
       "黑龙江    13.805600\n",
       "上海      4.780782\n",
       "江苏    -11.802198\n",
       "浙江     10.557630\n",
       "安徽    -30.032533\n",
       "福建      1.597955\n",
       "江西    -14.231977\n",
       "山东     26.905327\n",
       "河南      2.832399\n",
       "湖北     11.411582\n",
       "湖南     20.478135\n",
       "广东     -1.855679\n",
       "广西     -2.071764\n",
       "海南      2.553738\n",
       "重庆     -8.683145\n",
       "四川    -15.043469\n",
       "贵州     -4.493474\n",
       "云南    -10.203891\n",
       "陕西     -4.794068\n",
       "甘肃     -7.551264\n",
       "青海      3.834572\n",
       "宁夏      4.272939\n",
       "新疆      1.324251\n",
       "dtype: float64"
      ]
     },
     "execution_count": 26,
     "metadata": {},
     "output_type": "execute_result"
    }
   ],
   "source": [
    "'''多元线性回归模型评判'''\n",
    "'''模型M_full的残差'''\n",
    "et=M_full.resid\n",
    "et"
   ]
  },
  {
   "cell_type": "code",
   "execution_count": 27,
   "id": "7c434f69",
   "metadata": {},
   "outputs": [
    {
     "data": {
      "text/plain": [
       "[<matplotlib.lines.Line2D at 0x1da0577d970>]"
      ]
     },
     "execution_count": 27,
     "metadata": {},
     "output_type": "execute_result"
    },
    {
     "data": {
      "image/png": "[encoded data removed]",
      "text/plain": [
       "<Figure size 432x288 with 1 Axes>"
      ]
     },
     "metadata": {
      "needs_background": "light"
     },
     "output_type": "display_data"
    }
   ],
   "source": [
    "'''残差图'''\n",
    "plt.plot(et.values,'.')"
   ]
  },
  {
   "cell_type": "code",
   "execution_count": 28,
   "id": "6a77c075",
   "metadata": {},
   "outputs": [
    {
     "data": {
      "text/plain": [
       "地区\n",
       "北京           NaN\n",
       "天津     -1.425285\n",
       "河北      0.364283\n",
       "山西     -0.008865\n",
       "内蒙古     4.852374\n",
       "辽宁     21.134311\n",
       "吉林    -27.157561\n",
       "黑龙江     8.649295\n",
       "上海     13.805600\n",
       "江苏      4.780782\n",
       "浙江    -11.802198\n",
       "安徽     10.557630\n",
       "福建    -30.032533\n",
       "江西      1.597955\n",
       "山东    -14.231977\n",
       "河南     26.905327\n",
       "湖北      2.832399\n",
       "湖南     11.411582\n",
       "广东     20.478135\n",
       "广西     -1.855679\n",
       "海南     -2.071764\n",
       "重庆      2.553738\n",
       "四川     -8.683145\n",
       "贵州    -15.043469\n",
       "云南     -4.493474\n",
       "陕西    -10.203891\n",
       "甘肃     -4.794068\n",
       "青海     -7.551264\n",
       "宁夏      3.834572\n",
       "新疆      4.272939\n",
       "dtype: float64"
      ]
     },
     "execution_count": 28,
     "metadata": {},
     "output_type": "execute_result"
    }
   ],
   "source": [
    "et.shift(1)"
   ]
  },
  {
   "cell_type": "code",
   "execution_count": 32,
   "id": "891b1959",
   "metadata": {},
   "outputs": [
    {
     "data": {
      "text/plain": [
       "-0.18553688673391783"
      ]
     },
     "execution_count": 32,
     "metadata": {},
     "output_type": "execute_result"
    }
   ],
   "source": [
    "ro=et.corr(et.shift(1))\n",
    "ro"
   ]
  },
  {
   "cell_type": "code",
   "execution_count": 33,
   "id": "572ff4e8",
   "metadata": {},
   "outputs": [
    {
     "data": {
      "text/plain": [
       "2.3710737734678355"
      ]
     },
     "execution_count": 33,
     "metadata": {},
     "output_type": "execute_result"
    }
   ],
   "source": [
    "'''Durbin-Watson 统计量：分析中残差的一阶自相关性'''\n",
    "DW=2*(1-ro)\n",
    "DW"
   ]
  },
  {
   "cell_type": "markdown",
   "id": "0bf1b5b0",
   "metadata": {},
   "source": [
    "从描述上来讲，残差存在自相关性，可能的原因因为有：\n",
    "- 遗漏变量\n",
    "\n",
    "这个变量成为了联系残差之间的重要中介，所以表现出自相关性。\n",
    "\n",
    "- 模型函数形式设定有误\n",
    "\n",
    "比如说把一个非线性形式的方程用线性表示，或者说明明对数线性模型，用了线性方程直接描述。\n",
    "\n",
    "- 系统本身的惯性问题\n",
    "\n",
    "由于系统惯性的原因使得相邻两期之间存在自相关。\n",
    "\n",
    "残差自相关直接能说明的是因变量自相关，经典假设对自变量的要求是有显著变异，无多重共线性并且与残差不相关。"
   ]
  },
  {
   "cell_type": "markdown",
   "id": "6d90825f",
   "metadata": {},
   "source": [
    "Durbin-Watson统计量检验表：https://support.minitab.com/zh-cn/minitab/18/help-and-how-to/modeling-statistics/regression/supporting-topics/model-assumptions/test-for-autocorrelation-by-using-the-durbin-watson-statistic/"
   ]
  },
  {
   "cell_type": "code",
   "execution_count": null,
   "id": "6fcec06a",
   "metadata": {},
   "outputs": [],
   "source": [
    "#练习：残差是否存在一阶自相关性？分析原因"
   ]
  },
  {
   "cell_type": "code",
   "execution_count": 38,
   "id": "2e65ae2c",
   "metadata": {},
   "outputs": [
    {
     "data": {
      "text/html": [
       "<div>\n",
       "<style scoped>\n",
       "    .dataframe tbody tr th:only-of-type {\n",
       "        vertical-align: middle;\n",
       "    }\n",
       "\n",
       "    .dataframe tbody tr th {\n",
       "        vertical-align: top;\n",
       "    }\n",
       "\n",
       "    .dataframe thead th {\n",
       "        text-align: right;\n",
       "    }\n",
       "</style>\n",
       "<table border=\"1\" class=\"dataframe\">\n",
       "  <thead>\n",
       "    <tr style=\"text-align: right;\">\n",
       "      <th></th>\n",
       "      <th>0</th>\n",
       "      <th>1</th>\n",
       "      <th>2</th>\n",
       "      <th>3</th>\n",
       "    </tr>\n",
       "  </thead>\n",
       "  <tbody>\n",
       "    <tr>\n",
       "      <th>0</th>\n",
       "      <td>Model:</td>\n",
       "      <td>OLS</td>\n",
       "      <td>Adj. R-squared:</td>\n",
       "      <td>0.988</td>\n",
       "    </tr>\n",
       "    <tr>\n",
       "      <th>1</th>\n",
       "      <td>Dependent Variable:</td>\n",
       "      <td>Y</td>\n",
       "      <td>AIC:</td>\n",
       "      <td>252.7118</td>\n",
       "    </tr>\n",
       "    <tr>\n",
       "      <th>2</th>\n",
       "      <td>Date:</td>\n",
       "      <td>2022-04-07 16:46</td>\n",
       "      <td>BIC:</td>\n",
       "      <td>263.9214</td>\n",
       "    </tr>\n",
       "    <tr>\n",
       "      <th>3</th>\n",
       "      <td>No. Observations:</td>\n",
       "      <td>30</td>\n",
       "      <td>Log-Likelihood:</td>\n",
       "      <td>-118.36</td>\n",
       "    </tr>\n",
       "    <tr>\n",
       "      <th>4</th>\n",
       "      <td>Df Model:</td>\n",
       "      <td>7</td>\n",
       "      <td>F-statistic:</td>\n",
       "      <td>329.6</td>\n",
       "    </tr>\n",
       "    <tr>\n",
       "      <th>5</th>\n",
       "      <td>Df Residuals:</td>\n",
       "      <td>22</td>\n",
       "      <td>Prob (F-statistic):</td>\n",
       "      <td>9.08e-21</td>\n",
       "    </tr>\n",
       "    <tr>\n",
       "      <th>6</th>\n",
       "      <td>R-squared:</td>\n",
       "      <td>0.991</td>\n",
       "      <td>Scale:</td>\n",
       "      <td>213.29</td>\n",
       "    </tr>\n",
       "  </tbody>\n",
       "</table>\n",
       "</div>"
      ],
      "text/plain": [
       "                     0                 1                    2         3\n",
       "0               Model:               OLS      Adj. R-squared:     0.988\n",
       "1  Dependent Variable:                 Y                 AIC:  252.7118\n",
       "2                Date:  2022-04-07 16:46                 BIC:  263.9214\n",
       "3    No. Observations:                30      Log-Likelihood:   -118.36\n",
       "4            Df Model:                 7         F-statistic:     329.6\n",
       "5        Df Residuals:                22  Prob (F-statistic):  9.08e-21\n",
       "6           R-squared:             0.991               Scale:    213.29"
      ]
     },
     "execution_count": 38,
     "metadata": {},
     "output_type": "execute_result"
    }
   ],
   "source": [
    "#'''回归模型简表'''\n",
    "#M_full.summary2()\n",
    "'''回归模型统计量'''\n",
    "M_full.summary2().tables[0]"
   ]
  },
  {
   "cell_type": "code",
   "execution_count": 35,
   "id": "41aa5d07",
   "metadata": {},
   "outputs": [
    {
     "data": {
      "text/html": [
       "<div>\n",
       "<style scoped>\n",
       "    .dataframe tbody tr th:only-of-type {\n",
       "        vertical-align: middle;\n",
       "    }\n",
       "\n",
       "    .dataframe tbody tr th {\n",
       "        vertical-align: top;\n",
       "    }\n",
       "\n",
       "    .dataframe thead th {\n",
       "        text-align: right;\n",
       "    }\n",
       "</style>\n",
       "<table border=\"1\" class=\"dataframe\">\n",
       "  <thead>\n",
       "    <tr style=\"text-align: right;\">\n",
       "      <th></th>\n",
       "      <th>Coef.</th>\n",
       "      <th>Std.Err.</th>\n",
       "      <th>t</th>\n",
       "      <th>P&gt;|t|</th>\n",
       "      <th>[0.025</th>\n",
       "      <th>0.975]</th>\n",
       "    </tr>\n",
       "  </thead>\n",
       "  <tbody>\n",
       "    <tr>\n",
       "      <th>Intercept</th>\n",
       "      <td>-7.138064</td>\n",
       "      <td>7.243135</td>\n",
       "      <td>-0.985494</td>\n",
       "      <td>3.350967e-01</td>\n",
       "      <td>-22.159406</td>\n",
       "      <td>7.883278</td>\n",
       "    </tr>\n",
       "    <tr>\n",
       "      <th>X1</th>\n",
       "      <td>0.008497</td>\n",
       "      <td>0.003732</td>\n",
       "      <td>2.276662</td>\n",
       "      <td>3.288897e-02</td>\n",
       "      <td>0.000757</td>\n",
       "      <td>0.016237</td>\n",
       "    </tr>\n",
       "    <tr>\n",
       "      <th>X2</th>\n",
       "      <td>0.998300</td>\n",
       "      <td>0.106720</td>\n",
       "      <td>9.354405</td>\n",
       "      <td>4.008029e-09</td>\n",
       "      <td>0.776977</td>\n",
       "      <td>1.219624</td>\n",
       "    </tr>\n",
       "    <tr>\n",
       "      <th>X3</th>\n",
       "      <td>0.238449</td>\n",
       "      <td>0.126928</td>\n",
       "      <td>1.878619</td>\n",
       "      <td>7.361245e-02</td>\n",
       "      <td>-0.024783</td>\n",
       "      <td>0.501682</td>\n",
       "    </tr>\n",
       "    <tr>\n",
       "      <th>X4</th>\n",
       "      <td>0.006917</td>\n",
       "      <td>0.012226</td>\n",
       "      <td>0.565747</td>\n",
       "      <td>5.772910e-01</td>\n",
       "      <td>-0.018439</td>\n",
       "      <td>0.032273</td>\n",
       "    </tr>\n",
       "    <tr>\n",
       "      <th>X5</th>\n",
       "      <td>0.000906</td>\n",
       "      <td>0.001211</td>\n",
       "      <td>0.747926</td>\n",
       "      <td>4.624253e-01</td>\n",
       "      <td>-0.001606</td>\n",
       "      <td>0.003418</td>\n",
       "    </tr>\n",
       "    <tr>\n",
       "      <th>X6</th>\n",
       "      <td>4.046515</td>\n",
       "      <td>3.435806</td>\n",
       "      <td>1.177748</td>\n",
       "      <td>2.514809e-01</td>\n",
       "      <td>-3.078911</td>\n",
       "      <td>11.171940</td>\n",
       "    </tr>\n",
       "    <tr>\n",
       "      <th>X7</th>\n",
       "      <td>10.260713</td>\n",
       "      <td>23.487226</td>\n",
       "      <td>0.436864</td>\n",
       "      <td>6.664682e-01</td>\n",
       "      <td>-38.448811</td>\n",
       "      <td>58.970238</td>\n",
       "    </tr>\n",
       "  </tbody>\n",
       "</table>\n",
       "</div>"
      ],
      "text/plain": [
       "               Coef.   Std.Err.         t         P>|t|     [0.025     0.975]\n",
       "Intercept  -7.138064   7.243135 -0.985494  3.350967e-01 -22.159406   7.883278\n",
       "X1          0.008497   0.003732  2.276662  3.288897e-02   0.000757   0.016237\n",
       "X2          0.998300   0.106720  9.354405  4.008029e-09   0.776977   1.219624\n",
       "X3          0.238449   0.126928  1.878619  7.361245e-02  -0.024783   0.501682\n",
       "X4          0.006917   0.012226  0.565747  5.772910e-01  -0.018439   0.032273\n",
       "X5          0.000906   0.001211  0.747926  4.624253e-01  -0.001606   0.003418\n",
       "X6          4.046515   3.435806  1.177748  2.514809e-01  -3.078911  11.171940\n",
       "X7         10.260713  23.487226  0.436864  6.664682e-01 -38.448811  58.970238"
      ]
     },
     "execution_count": 35,
     "metadata": {},
     "output_type": "execute_result"
    }
   ],
   "source": [
    "'''回归系数检验表'''\n",
    "M_full.summary2().tables[1]"
   ]
  },
  {
   "cell_type": "code",
   "execution_count": 36,
   "id": "e8d96a42",
   "metadata": {},
   "outputs": [
    {
     "data": {
      "text/html": [
       "<div>\n",
       "<style scoped>\n",
       "    .dataframe tbody tr th:only-of-type {\n",
       "        vertical-align: middle;\n",
       "    }\n",
       "\n",
       "    .dataframe tbody tr th {\n",
       "        vertical-align: top;\n",
       "    }\n",
       "\n",
       "    .dataframe thead th {\n",
       "        text-align: right;\n",
       "    }\n",
       "</style>\n",
       "<table border=\"1\" class=\"dataframe\">\n",
       "  <thead>\n",
       "    <tr style=\"text-align: right;\">\n",
       "      <th></th>\n",
       "      <th>0</th>\n",
       "      <th>1</th>\n",
       "      <th>2</th>\n",
       "      <th>3</th>\n",
       "    </tr>\n",
       "  </thead>\n",
       "  <tbody>\n",
       "    <tr>\n",
       "      <th>0</th>\n",
       "      <td>Omnibus:</td>\n",
       "      <td>1.261</td>\n",
       "      <td>Durbin-Watson:</td>\n",
       "      <td>2.370</td>\n",
       "    </tr>\n",
       "    <tr>\n",
       "      <th>1</th>\n",
       "      <td>Prob(Omnibus):</td>\n",
       "      <td>0.532</td>\n",
       "      <td>Jarque-Bera (JB):</td>\n",
       "      <td>0.425</td>\n",
       "    </tr>\n",
       "    <tr>\n",
       "      <th>2</th>\n",
       "      <td>Skew:</td>\n",
       "      <td>-0.231</td>\n",
       "      <td>Prob(JB):</td>\n",
       "      <td>0.809</td>\n",
       "    </tr>\n",
       "    <tr>\n",
       "      <th>3</th>\n",
       "      <td>Kurtosis:</td>\n",
       "      <td>3.355</td>\n",
       "      <td>Condition No.:</td>\n",
       "      <td>134156</td>\n",
       "    </tr>\n",
       "  </tbody>\n",
       "</table>\n",
       "</div>"
      ],
      "text/plain": [
       "                0       1                  2       3\n",
       "0        Omnibus:   1.261     Durbin-Watson:   2.370\n",
       "1  Prob(Omnibus):   0.532  Jarque-Bera (JB):   0.425\n",
       "2           Skew:  -0.231          Prob(JB):   0.809\n",
       "3       Kurtosis:   3.355     Condition No.:  134156"
      ]
     },
     "execution_count": 36,
     "metadata": {},
     "output_type": "execute_result"
    }
   ],
   "source": [
    "'''模型残差分析表'''\n",
    "M_full.summary2().tables[2]"
   ]
  },
  {
   "cell_type": "code",
   "execution_count": 64,
   "id": "265b7357",
   "metadata": {},
   "outputs": [
    {
     "name": "stdout",
     "output_type": "stream",
     "text": [
      "Durbin-Watson:  2.370\n",
      "Jarque-Bera:  0.425\n",
      "Prob(JB):  0.809\n"
     ]
    }
   ],
   "source": [
    "'''DW值'''\n",
    "print('Durbin-Watson: ', M_full.summary2().tables[2][3][0])\n",
    "'''JB值,在统计学中，Jarque–Bera检验是对样本数据是否具有符合正态分布的偏度和峰度的\n",
    "拟合优度的检验。其统计测试结果总是非负的。如果结果远大于零，则表示数据不具有正态分布。'''\n",
    "print('Jarque-Bera: ', M_full.summary2().tables[2][3][1])\n",
    "'''JB概率(p-value) 0.809 JB服从卡方分布，样本数据服从正态分布'''\n",
    "print('Prob(JB): ',M_full.summary2().tables[2][3][2])"
   ]
  },
  {
   "cell_type": "code",
   "execution_count": 39,
   "id": "819de53f",
   "metadata": {},
   "outputs": [
    {
     "data": {
      "text/plain": [
       "'0.991'"
      ]
     },
     "execution_count": 39,
     "metadata": {},
     "output_type": "execute_result"
    }
   ],
   "source": [
    "'''模型的决定系数R2'''\n",
    "R2=M_full.summary2().tables[0][1][6]\n",
    "R2"
   ]
  },
  {
   "cell_type": "code",
   "execution_count": 40,
   "id": "df6fa1d8",
   "metadata": {},
   "outputs": [
    {
     "data": {
      "text/plain": [
       "'0.988'"
      ]
     },
     "execution_count": 40,
     "metadata": {},
     "output_type": "execute_result"
    }
   ],
   "source": [
    "'''adj.R2'''\n",
    "M_full.summary2().tables[0][3][0]"
   ]
  },
  {
   "cell_type": "code",
   "execution_count": 42,
   "id": "89bbab17",
   "metadata": {
    "scrolled": true
   },
   "outputs": [
    {
     "data": {
      "text/html": [
       "<table class=\"simpletable\">\n",
       "<tr>\n",
       "         <td></td>           <th>Y I</th>      <th>Y II</th>      <th>Y III</th>   <th>Y IIII</th>   <th>Y IIIII</th> \n",
       "</tr>\n",
       "<tr>\n",
       "  <th>Intercept</th>       <td>14.6842</td>  <td>-12.4511</td>  <td>-23.9232</td>  <td>-4.8114</td>  <td>-7.1381</td> \n",
       "</tr>\n",
       "<tr>\n",
       "  <th></th>               <td>(25.5399)</td> <td>(20.7420)</td> <td>(8.6835)</td> <td>(5.8162)</td> <td>(7.2431)</td> \n",
       "</tr>\n",
       "<tr>\n",
       "  <th>R-squared</th>       <td>0.6651</td>    <td>0.8057</td>    <td>0.9676</td>   <td>0.9900</td>   <td>0.9906</td>  \n",
       "</tr>\n",
       "<tr>\n",
       "  <th>R-squared Adj.</th>  <td>0.6531</td>    <td>0.7913</td>    <td>0.9639</td>   <td>0.9879</td>   <td>0.9876</td>  \n",
       "</tr>\n",
       "<tr>\n",
       "  <th>X1</th>              <td>0.0603</td>    <td>0.0142</td>    <td>0.0007</td>   <td>0.0088</td>   <td>0.0085</td>  \n",
       "</tr>\n",
       "<tr>\n",
       "  <th></th>               <td>(0.0081)</td>  <td>(0.0122)</td>  <td>(0.0052)</td> <td>(0.0034)</td> <td>(0.0037)</td> \n",
       "</tr>\n",
       "<tr>\n",
       "  <th>X2</th>                 <td></td>       <td>1.4599</td>    <td>0.9201</td>   <td>0.9695</td>   <td>0.9983</td>  \n",
       "</tr>\n",
       "<tr>\n",
       "  <th></th>                   <td></td>      <td>(0.3304)</td>  <td>(0.1453)</td> <td>(0.0967)</td> <td>(0.1067)</td> \n",
       "</tr>\n",
       "<tr>\n",
       "  <th>X3</th>                 <td></td>          <td></td>       <td>0.8852</td>   <td>0.2500</td>   <td>0.2384</td>  \n",
       "</tr>\n",
       "<tr>\n",
       "  <th></th>                   <td></td>          <td></td>      <td>(0.0776)</td> <td>(0.1246)</td> <td>(0.1269)</td> \n",
       "</tr>\n",
       "<tr>\n",
       "  <th>X4</th>                 <td></td>          <td></td>          <td></td>      <td>0.0146</td>   <td>0.0069</td>  \n",
       "</tr>\n",
       "<tr>\n",
       "  <th></th>                   <td></td>          <td></td>          <td></td>     <td>(0.0062)</td> <td>(0.0122)</td> \n",
       "</tr>\n",
       "<tr>\n",
       "  <th>X5</th>                 <td></td>          <td></td>          <td></td>      <td>0.0015</td>   <td>0.0009</td>  \n",
       "</tr>\n",
       "<tr>\n",
       "  <th></th>                   <td></td>          <td></td>          <td></td>     <td>(0.0007)</td> <td>(0.0012)</td> \n",
       "</tr>\n",
       "<tr>\n",
       "  <th>X6</th>                 <td></td>          <td></td>          <td></td>         <td></td>      <td>4.0465</td>  \n",
       "</tr>\n",
       "<tr>\n",
       "  <th></th>                   <td></td>          <td></td>          <td></td>         <td></td>     <td>(3.4358)</td> \n",
       "</tr>\n",
       "<tr>\n",
       "  <th>X7</th>                 <td></td>          <td></td>          <td></td>         <td></td>      <td>10.2607</td> \n",
       "</tr>\n",
       "<tr>\n",
       "  <th></th>                   <td></td>          <td></td>          <td></td>         <td></td>     <td>(23.4872)</td>\n",
       "</tr>\n",
       "</table>"
      ],
      "text/plain": [
       "<class 'statsmodels.iolib.summary2.Summary'>\n",
       "\"\"\"\n",
       "\n",
       "==============================================================\n",
       "                  Y I       Y II    Y III    Y IIII   Y IIIII \n",
       "--------------------------------------------------------------\n",
       "Intercept      14.6842   -12.4511  -23.9232 -4.8114  -7.1381  \n",
       "               (25.5399) (20.7420) (8.6835) (5.8162) (7.2431) \n",
       "R-squared      0.6651    0.8057    0.9676   0.9900   0.9906   \n",
       "R-squared Adj. 0.6531    0.7913    0.9639   0.9879   0.9876   \n",
       "X1             0.0603    0.0142    0.0007   0.0088   0.0085   \n",
       "               (0.0081)  (0.0122)  (0.0052) (0.0034) (0.0037) \n",
       "X2                       1.4599    0.9201   0.9695   0.9983   \n",
       "                         (0.3304)  (0.1453) (0.0967) (0.1067) \n",
       "X3                                 0.8852   0.2500   0.2384   \n",
       "                                   (0.0776) (0.1246) (0.1269) \n",
       "X4                                          0.0146   0.0069   \n",
       "                                            (0.0062) (0.0122) \n",
       "X5                                          0.0015   0.0009   \n",
       "                                            (0.0007) (0.0012) \n",
       "X6                                                   4.0465   \n",
       "                                                     (3.4358) \n",
       "X7                                                   10.2607  \n",
       "                                                     (23.4872)\n",
       "==============================================================\n",
       "Standard errors in parentheses.\n",
       "\"\"\""
      ]
     },
     "execution_count": 42,
     "metadata": {},
     "output_type": "execute_result"
    }
   ],
   "source": [
    "'''模型结果比较'''\n",
    "summary_col([M1,M2,M3,M4,M_full])"
   ]
  },
  {
   "cell_type": "markdown",
   "id": "d70c2ac8",
   "metadata": {},
   "source": [
    "### 特征选择 和 模型选择"
   ]
  },
  {
   "cell_type": "code",
   "execution_count": 7,
   "id": "96be1fa8",
   "metadata": {},
   "outputs": [
    {
     "name": "stdout",
     "output_type": "stream",
     "text": [
      "Index(['X6', 'X7'], dtype='object')\n"
     ]
    }
   ],
   "source": [
    "'''特征选择：地区经济数据集'''\n",
    "feat_sel = SelectFromModel(LinearRegression(),max_features=3)\n",
    "feat_res = feat_sel.fit(econ_data.iloc[:,1:],econ_data.Y)\n",
    "\n",
    "sel_fname = econ_data.iloc[:,1:].columns[feat_res.get_support()]\n",
    "print(sel_fname)"
   ]
  },
  {
   "cell_type": "markdown",
   "id": "73b9fde5",
   "metadata": {},
   "source": [
    "**<font color='orange'> 为何x7在相关性分析时与Y的相关系数不高，为何特征选择会被选？分析可能的原因 </font>**"
   ]
  },
  {
   "cell_type": "code",
   "execution_count": 8,
   "id": "efa7882e",
   "metadata": {},
   "outputs": [
    {
     "name": "stdout",
     "output_type": "stream",
     "text": [
      "Index(['X2', 'X3', 'X6', 'X7'], dtype='object')\n",
      "Index(['X1', 'X2', 'X3', 'X5'], dtype='object')\n"
     ]
    }
   ],
   "source": [
    "feat_sel2 = RFE(LinearRegression(),n_features_to_select=4)\n",
    "rfe_res = feat_sel2.fit(econ_data.iloc[:,1:],econ_data.Y)\n",
    "sel_fname2 = econ_data.iloc[:,1:].columns[rfe_res.get_support()]\n",
    "print(sel_fname2)\n",
    "\n",
    "sel_k = SelectKBest(f_regression,k=4).fit(econ_data.iloc[:,1:],econ_data.Y)\n",
    "#单变量特征选择：分别单独计算每个变量的某个统计指标，再进行筛选\n",
    "#指标：用于回归的f_regression、mutual_info_regression,用于分类的chi2、f_classif、mutual_info_classif\n",
    "print(econ_data.iloc[:,1:].columns[sel_k.get_support()])"
   ]
  },
  {
   "cell_type": "code",
   "execution_count": 7,
   "id": "8588c292",
   "metadata": {},
   "outputs": [
    {
     "name": "stdout",
     "output_type": "stream",
     "text": [
      "Index(['X2', 'X3', 'X4', 'X6'], dtype='object')\n"
     ]
    }
   ],
   "source": [
    "'''归一化后再特征选择'''\n",
    "econ_data_scale = econ_data.copy()\n",
    "\n",
    "econ_data_scale.iloc[:,0:] = StandardScaler().fit_transform(econ_data_scale)\n",
    "econ_data_scale\n",
    "\n",
    "feat_sel_new = RFE(LinearRegression(),n_features_to_select=4)\n",
    "rfe_res = feat_sel_new.fit(econ_data_scale.iloc[:,1:],econ_data_scale.Y)\n",
    "sel_fname = econ_data_scale.iloc[:,1:].columns[rfe_res.get_support()]\n",
    "print(sel_fname)"
   ]
  },
  {
   "cell_type": "code",
   "execution_count": 8,
   "id": "2999d6da",
   "metadata": {},
   "outputs": [
    {
     "data": {
      "text/html": [
       "<div>\n",
       "<style scoped>\n",
       "    .dataframe tbody tr th:only-of-type {\n",
       "        vertical-align: middle;\n",
       "    }\n",
       "\n",
       "    .dataframe tbody tr th {\n",
       "        vertical-align: top;\n",
       "    }\n",
       "\n",
       "    .dataframe thead th {\n",
       "        text-align: right;\n",
       "    }\n",
       "</style>\n",
       "<table border=\"1\" class=\"dataframe\">\n",
       "  <thead>\n",
       "    <tr style=\"text-align: right;\">\n",
       "      <th></th>\n",
       "      <th>X2</th>\n",
       "      <th>X3</th>\n",
       "      <th>X4</th>\n",
       "      <th>X6</th>\n",
       "    </tr>\n",
       "    <tr>\n",
       "      <th>地区</th>\n",
       "      <th></th>\n",
       "      <th></th>\n",
       "      <th></th>\n",
       "      <th></th>\n",
       "    </tr>\n",
       "  </thead>\n",
       "  <tbody>\n",
       "    <tr>\n",
       "      <th>北京</th>\n",
       "      <td>-0.717262</td>\n",
       "      <td>0.946989</td>\n",
       "      <td>1.322333</td>\n",
       "      <td>-0.037051</td>\n",
       "    </tr>\n",
       "    <tr>\n",
       "      <th>天津</th>\n",
       "      <td>-0.485043</td>\n",
       "      <td>-0.617999</td>\n",
       "      <td>-0.088603</td>\n",
       "      <td>-0.164707</td>\n",
       "    </tr>\n",
       "    <tr>\n",
       "      <th>河北</th>\n",
       "      <td>0.968981</td>\n",
       "      <td>0.736823</td>\n",
       "      <td>-0.334148</td>\n",
       "      <td>-0.304588</td>\n",
       "    </tr>\n",
       "    <tr>\n",
       "      <th>山西</th>\n",
       "      <td>-0.484202</td>\n",
       "      <td>-0.119393</td>\n",
       "      <td>-0.525692</td>\n",
       "      <td>-0.507971</td>\n",
       "    </tr>\n",
       "    <tr>\n",
       "      <th>内蒙古</th>\n",
       "      <td>0.029312</td>\n",
       "      <td>-0.705213</td>\n",
       "      <td>-0.539600</td>\n",
       "      <td>-0.514487</td>\n",
       "    </tr>\n",
       "    <tr>\n",
       "      <th>辽宁</th>\n",
       "      <td>1.177525</td>\n",
       "      <td>0.464478</td>\n",
       "      <td>-0.125245</td>\n",
       "      <td>-0.107247</td>\n",
       "    </tr>\n",
       "    <tr>\n",
       "      <th>吉林</th>\n",
       "      <td>-0.426699</td>\n",
       "      <td>-0.653993</td>\n",
       "      <td>-0.489741</td>\n",
       "      <td>-0.511751</td>\n",
       "    </tr>\n",
       "    <tr>\n",
       "      <th>黑龙江</th>\n",
       "      <td>-0.421447</td>\n",
       "      <td>-0.385707</td>\n",
       "      <td>-0.408566</td>\n",
       "      <td>-0.400433</td>\n",
       "    </tr>\n",
       "    <tr>\n",
       "      <th>上海</th>\n",
       "      <td>-0.813482</td>\n",
       "      <td>0.746100</td>\n",
       "      <td>1.558163</td>\n",
       "      <td>1.286634</td>\n",
       "    </tr>\n",
       "    <tr>\n",
       "      <th>江苏</th>\n",
       "      <td>2.576124</td>\n",
       "      <td>1.691593</td>\n",
       "      <td>2.063407</td>\n",
       "      <td>2.190955</td>\n",
       "    </tr>\n",
       "    <tr>\n",
       "      <th>浙江</th>\n",
       "      <td>0.625186</td>\n",
       "      <td>1.440354</td>\n",
       "      <td>0.927360</td>\n",
       "      <td>1.345236</td>\n",
       "    </tr>\n",
       "    <tr>\n",
       "      <th>安徽</th>\n",
       "      <td>0.355399</td>\n",
       "      <td>-0.262395</td>\n",
       "      <td>-0.443926</td>\n",
       "      <td>-0.405630</td>\n",
       "    </tr>\n",
       "    <tr>\n",
       "      <th>福建</th>\n",
       "      <td>-0.041548</td>\n",
       "      <td>-0.267671</td>\n",
       "      <td>0.109500</td>\n",
       "      <td>0.259992</td>\n",
       "    </tr>\n",
       "    <tr>\n",
       "      <th>江西</th>\n",
       "      <td>-0.169967</td>\n",
       "      <td>-0.506863</td>\n",
       "      <td>-0.442841</td>\n",
       "      <td>-0.363445</td>\n",
       "    </tr>\n",
       "    <tr>\n",
       "      <th>山东</th>\n",
       "      <td>2.585024</td>\n",
       "      <td>1.250237</td>\n",
       "      <td>0.565329</td>\n",
       "      <td>0.549497</td>\n",
       "    </tr>\n",
       "    <tr>\n",
       "      <th>河南</th>\n",
       "      <td>1.184179</td>\n",
       "      <td>0.368533</td>\n",
       "      <td>-0.437515</td>\n",
       "      <td>-0.386654</td>\n",
       "    </tr>\n",
       "    <tr>\n",
       "      <th>湖北</th>\n",
       "      <td>0.371254</td>\n",
       "      <td>-0.020954</td>\n",
       "      <td>-0.433175</td>\n",
       "      <td>-0.384095</td>\n",
       "    </tr>\n",
       "    <tr>\n",
       "      <th>湖南</th>\n",
       "      <td>0.265744</td>\n",
       "      <td>-0.104446</td>\n",
       "      <td>-0.504782</td>\n",
       "      <td>-0.468700</td>\n",
       "    </tr>\n",
       "    <tr>\n",
       "      <th>广东</th>\n",
       "      <td>1.075030</td>\n",
       "      <td>3.425176</td>\n",
       "      <td>3.906451</td>\n",
       "      <td>4.117882</td>\n",
       "    </tr>\n",
       "    <tr>\n",
       "      <th>广西</th>\n",
       "      <td>-0.341072</td>\n",
       "      <td>-0.561468</td>\n",
       "      <td>-0.483330</td>\n",
       "      <td>-0.446220</td>\n",
       "    </tr>\n",
       "    <tr>\n",
       "      <th>海南</th>\n",
       "      <td>-1.328982</td>\n",
       "      <td>-1.117347</td>\n",
       "      <td>-0.535556</td>\n",
       "      <td>-0.533365</td>\n",
       "    </tr>\n",
       "    <tr>\n",
       "      <th>重庆</th>\n",
       "      <td>-0.421759</td>\n",
       "      <td>-0.523260</td>\n",
       "      <td>-0.454381</td>\n",
       "      <td>-0.381378</td>\n",
       "    </tr>\n",
       "    <tr>\n",
       "      <th>四川</th>\n",
       "      <td>0.630948</td>\n",
       "      <td>0.542299</td>\n",
       "      <td>-0.362850</td>\n",
       "      <td>-0.300454</td>\n",
       "    </tr>\n",
       "    <tr>\n",
       "      <th>贵州</th>\n",
       "      <td>-0.926749</td>\n",
       "      <td>-0.878979</td>\n",
       "      <td>-0.574417</td>\n",
       "      <td>-0.529408</td>\n",
       "    </tr>\n",
       "    <tr>\n",
       "      <th>云南</th>\n",
       "      <td>-0.621789</td>\n",
       "      <td>-0.561155</td>\n",
       "      <td>-0.519331</td>\n",
       "      <td>-0.472480</td>\n",
       "    </tr>\n",
       "    <tr>\n",
       "      <th>陕西</th>\n",
       "      <td>-0.116390</td>\n",
       "      <td>-0.267080</td>\n",
       "      <td>-0.526383</td>\n",
       "      <td>-0.494093</td>\n",
       "    </tr>\n",
       "    <tr>\n",
       "      <th>甘肃</th>\n",
       "      <td>-0.968885</td>\n",
       "      <td>-0.843507</td>\n",
       "      <td>-0.555381</td>\n",
       "      <td>-0.536711</td>\n",
       "    </tr>\n",
       "    <tr>\n",
       "      <th>青海</th>\n",
       "      <td>-1.363556</td>\n",
       "      <td>-1.214719</td>\n",
       "      <td>-0.593946</td>\n",
       "      <td>-0.549880</td>\n",
       "    </tr>\n",
       "    <tr>\n",
       "      <th>宁夏</th>\n",
       "      <td>-1.330930</td>\n",
       "      <td>-1.179061</td>\n",
       "      <td>-0.587190</td>\n",
       "      <td>-0.541632</td>\n",
       "    </tr>\n",
       "    <tr>\n",
       "      <th>新疆</th>\n",
       "      <td>-0.864945</td>\n",
       "      <td>-0.821370</td>\n",
       "      <td>-0.485944</td>\n",
       "      <td>-0.407815</td>\n",
       "    </tr>\n",
       "  </tbody>\n",
       "</table>\n",
       "</div>"
      ],
      "text/plain": [
       "           X2        X3        X4        X6\n",
       "地区                                         \n",
       "北京  -0.717262  0.946989  1.322333 -0.037051\n",
       "天津  -0.485043 -0.617999 -0.088603 -0.164707\n",
       "河北   0.968981  0.736823 -0.334148 -0.304588\n",
       "山西  -0.484202 -0.119393 -0.525692 -0.507971\n",
       "内蒙古  0.029312 -0.705213 -0.539600 -0.514487\n",
       "辽宁   1.177525  0.464478 -0.125245 -0.107247\n",
       "吉林  -0.426699 -0.653993 -0.489741 -0.511751\n",
       "黑龙江 -0.421447 -0.385707 -0.408566 -0.400433\n",
       "上海  -0.813482  0.746100  1.558163  1.286634\n",
       "江苏   2.576124  1.691593  2.063407  2.190955\n",
       "浙江   0.625186  1.440354  0.927360  1.345236\n",
       "安徽   0.355399 -0.262395 -0.443926 -0.405630\n",
       "福建  -0.041548 -0.267671  0.109500  0.259992\n",
       "江西  -0.169967 -0.506863 -0.442841 -0.363445\n",
       "山东   2.585024  1.250237  0.565329  0.549497\n",
       "河南   1.184179  0.368533 -0.437515 -0.386654\n",
       "湖北   0.371254 -0.020954 -0.433175 -0.384095\n",
       "湖南   0.265744 -0.104446 -0.504782 -0.468700\n",
       "广东   1.075030  3.425176  3.906451  4.117882\n",
       "广西  -0.341072 -0.561468 -0.483330 -0.446220\n",
       "海南  -1.328982 -1.117347 -0.535556 -0.533365\n",
       "重庆  -0.421759 -0.523260 -0.454381 -0.381378\n",
       "四川   0.630948  0.542299 -0.362850 -0.300454\n",
       "贵州  -0.926749 -0.878979 -0.574417 -0.529408\n",
       "云南  -0.621789 -0.561155 -0.519331 -0.472480\n",
       "陕西  -0.116390 -0.267080 -0.526383 -0.494093\n",
       "甘肃  -0.968885 -0.843507 -0.555381 -0.536711\n",
       "青海  -1.363556 -1.214719 -0.593946 -0.549880\n",
       "宁夏  -1.330930 -1.179061 -0.587190 -0.541632\n",
       "新疆  -0.864945 -0.821370 -0.485944 -0.407815"
      ]
     },
     "execution_count": 8,
     "metadata": {},
     "output_type": "execute_result"
    }
   ],
   "source": [
    "econ_seldata = pd.DataFrame(econ_data_scale.iloc[:,1:].loc[:,rfe_res.get_support()],\\\n",
    "                            columns = sel_fname)\n",
    "econ_seldata\n"
   ]
  },
  {
   "cell_type": "code",
   "execution_count": 9,
   "id": "ea4eb771",
   "metadata": {
    "scrolled": true
   },
   "outputs": [],
   "source": [
    "'''生成地区经济数据的训练和测试数据'''\n",
    "x_train_econ,x_test_econ,y_train_econ,y_test_econ = \\\n",
    "    train_test_split(econ_seldata,econ_data.Y,\\\n",
    "                    test_size=0.2,random_state=11)\n"
   ]
  },
  {
   "cell_type": "code",
   "execution_count": 48,
   "id": "5bc26a70",
   "metadata": {
    "scrolled": true
   },
   "outputs": [
    {
     "name": "stdout",
     "output_type": "stream",
     "text": [
      "[0.99358971 0.98868606 0.98320327 0.98880832 0.99079828]\n",
      "[0.9556238  0.97943865 0.98001092 0.9550332  0.93967208]\n"
     ]
    }
   ],
   "source": [
    "'''cross validation'''\n",
    "lr_mod_econ = LinearRegression()\n",
    "cv_econres = cross_validate(lr_mod_econ,x_train_econ,y_train_econ,cv=5,return_train_score=True,scoring=('r2'))\n",
    "print(cv_econres['train_score'])\n",
    "'''The score array for test scores on each cv split.'''\n",
    "print(cv_econres['test_score'])\n"
   ]
  },
  {
   "cell_type": "code",
   "execution_count": 49,
   "id": "3cd805b4",
   "metadata": {
    "scrolled": false
   },
   "outputs": [
    {
     "name": "stdout",
     "output_type": "stream",
     "text": [
      "[0.9556238  0.97943865 0.98001092 0.9550332  0.93967208]\n",
      "0.961955730489932\n"
     ]
    }
   ],
   "source": [
    "'''cross_val_score返回：Array of scores of the estimator for each run of the cross validation'''\n",
    "lr_cvscore_econ = cross_val_score(lr_mod_econ,x_train_econ,y_train_econ,cv=5)\n",
    "print(lr_cvscore_econ)\n",
    "lr_cvmean_econ = lr_cvscore_econ.mean()\n",
    "print(lr_cvmean_econ)"
   ]
  },
  {
   "cell_type": "code",
   "execution_count": 14,
   "id": "e3987ab4",
   "metadata": {},
   "outputs": [
    {
     "name": "stdout",
     "output_type": "stream",
     "text": [
      "130.71862330140073 11.433224536472672\n",
      "0.973224368490891\n"
     ]
    }
   ],
   "source": [
    "lr_mod_econ.fit(x_train_econ,y_train_econ)\n",
    "lr_testpred_econ = lr_mod_econ.predict(x_test_econ)\n",
    "lr_mse_econ = np.average((lr_testpred_econ - np.array(y_test_econ)) ** 2)\n",
    "lr_rmse_econ = np.sqrt(lr_mse_econ)\n",
    "print(lr_mse_econ,lr_rmse_econ)\n",
    "'''基于测试数据的r2'''\n",
    "lr_tscore_econ = lr_mod_econ.score(x_test_econ,y_test_econ)\n",
    "print(lr_tscore_econ)"
   ]
  },
  {
   "cell_type": "markdown",
   "id": "75e06c75",
   "metadata": {},
   "source": [
    "## 正则化"
   ]
  },
  {
   "cell_type": "code",
   "execution_count": 50,
   "id": "3ea56cf0",
   "metadata": {},
   "outputs": [],
   "source": [
    "def pretty_print_linear(coefs, names=None, sort=False):\n",
    "    #if names == None:\n",
    "    #    names = [\"X%s\" % x for x in range(len(coefs))]\n",
    "    lst = zip(coefs, names)\n",
    "    if sort:\n",
    "        lst = sorted(lst, key=lambda x: -np.abs(x[0]))\n",
    "    return \" + \".join(\"%s * %s\" % (round(coef, 3), name) for coef, name in lst)"
   ]
  },
  {
   "cell_type": "code",
   "execution_count": 51,
   "id": "f952e222",
   "metadata": {},
   "outputs": [
    {
     "name": "stdout",
     "output_type": "stream",
     "text": [
      "[0.96584106 0.97871882 0.99073577 0.95515935 0.94094102]\n",
      "0.9662792035738941\n",
      "0.9728166995591844\n"
     ]
    }
   ],
   "source": [
    "'''对地区经济数据进行Lasso 模型 CV'''\n",
    "lasso_mod_econ = Lasso(alpha=1)\n",
    "lasso_cvpredict_econ = cross_val_predict(lasso_mod_econ,x_train_econ,y_train_econ,cv=5)\n",
    "lasso_cvscore_econ = cross_val_score(lasso_mod_econ,x_train_econ,y_train_econ,cv=5)\n",
    "lasso_cvmean_econ = lasso_cvscore_econ.mean()\n",
    "print(lasso_cvscore_econ)\n",
    "print(lasso_cvmean_econ)\n",
    "\n",
    "lasso_mod_econ.fit(x_train_econ,y_train_econ)\n",
    "lasso_testpred_econ = lasso_mod_econ.predict(x_test_econ)\n",
    "#print(lasso_testpred_econ)\n",
    "lasso_tscore_econ = lasso_mod_econ.score(x_test_econ,y_test_econ)\n",
    "print(lasso_tscore_econ)\n",
    "#练习：惩罚系数alpha设为(0.3,3,30,300)或自定区间（从小到大）np.logspace，观察并分析lasso模型的系数变化"
   ]
  },
  {
   "cell_type": "code",
   "execution_count": 52,
   "id": "24b1d852",
   "metadata": {},
   "outputs": [
    {
     "name": "stdout",
     "output_type": "stream",
     "text": [
      "[0.95818564 0.98794165 0.99487309 0.95779783 0.93640482]\n",
      "0.9670406077987398\n",
      "0.968220669016016\n"
     ]
    }
   ],
   "source": [
    "'''对地区经济数据进行Ridge 模型 CV'''\n",
    "ridge_mod_econ = Ridge(alpha=1)\n",
    "ridge_cvpredict_econ = cross_val_predict(ridge_mod_econ,x_train_econ,y_train_econ,cv=5)\n",
    "ridge_cvscore_econ = cross_val_score(ridge_mod_econ,x_train_econ,y_train_econ,cv=5)\n",
    "ridge_cvmean_econ = ridge_cvscore_econ.mean()\n",
    "print(ridge_cvscore_econ)\n",
    "print(ridge_cvmean_econ)\n",
    "\n",
    "ridge_mod_econ.fit(x_train_econ,y_train_econ)\n",
    "ridge_testpred_econ = ridge_mod_econ.predict(x_test_econ)\n",
    "#print(ridge_testpred_econ)\n",
    "ridge_tscore_econ = ridge_mod_econ.score(x_test_econ,y_test_econ)\n",
    "print(ridge_tscore_econ)\n",
    "#练习：惩罚系数alpha设为(0.3,3,30,300)或自定区间（从小到大），观察并分析ridge模型的系数变化"
   ]
  },
  {
   "cell_type": "code",
   "execution_count": 53,
   "id": "754b1bd7",
   "metadata": {},
   "outputs": [
    {
     "name": "stdout",
     "output_type": "stream",
     "text": [
      "[1.00000000e-03 1.26485522e-03 1.59985872e-03 2.02358965e-03\n",
      " 2.55954792e-03 3.23745754e-03 4.09491506e-03 5.17947468e-03\n",
      " 6.55128557e-03 8.28642773e-03 1.04811313e-02 1.32571137e-02\n",
      " 1.67683294e-02 2.12095089e-02 2.68269580e-02 3.39322177e-02\n",
      " 4.29193426e-02 5.42867544e-02 6.86648845e-02 8.68511374e-02\n",
      " 1.09854114e-01 1.38949549e-01 1.75751062e-01 2.22299648e-01\n",
      " 2.81176870e-01 3.55648031e-01 4.49843267e-01 5.68986603e-01\n",
      " 7.19685673e-01 9.10298178e-01 1.15139540e+00 1.45634848e+00\n",
      " 1.84206997e+00 2.32995181e+00 2.94705170e+00 3.72759372e+00\n",
      " 4.71486636e+00 5.96362332e+00 7.54312006e+00 9.54095476e+00\n",
      " 1.20679264e+01 1.52641797e+01 1.93069773e+01 2.44205309e+01\n",
      " 3.08884360e+01 3.90693994e+01 4.94171336e+01 6.25055193e+01\n",
      " 7.90604321e+01 1.00000000e+02]\n",
      "Lasso最佳参数：\n",
      " {'alpha': 0.9102981779915218}\n",
      "Lasso 最佳score：\n",
      " 0.9662865957248814\n",
      "Ridge最佳参数：\n",
      " {'alpha': 0.35564803062231287}\n",
      "Ridge最佳score：\n",
      " 0.9686850386320229\n"
     ]
    }
   ],
   "source": [
    "'''地区经济数据，最佳正则化参数选择'''\n",
    "alpha_val = np.logspace(-3, 2, 50) #0.001 - 100\n",
    "print(alpha_val)\n",
    "'''GridSearchCV 在指定范围内，搜索验证集上最优参数（不断训练和比较进行网格化搜索）'''\n",
    "lasso_model_econ = GridSearchCV(Lasso(max_iter = 2000), param_grid={'alpha': alpha_val}, cv=5)\n",
    "lasso_model_econ.fit(x_train_econ, y_train_econ)\n",
    "print ('Lasso最佳参数：\\n', lasso_model_econ.best_params_)\n",
    "print ('Lasso 最佳score：\\n', lasso_model_econ.best_score_)\n",
    "ridge_model_econ = GridSearchCV(Ridge(max_iter = 2000), param_grid={'alpha': alpha_val}, cv=5)\n",
    "ridge_model_econ.fit(x_train_econ, y_train_econ)\n",
    "print ('Ridge最佳参数：\\n', ridge_model_econ.best_params_)\n",
    "print ('Ridge最佳score：\\n', ridge_model_econ.best_score_)\n"
   ]
  },
  {
   "cell_type": "code",
   "execution_count": 56,
   "id": "17064cba",
   "metadata": {},
   "outputs": [
    {
     "name": "stdout",
     "output_type": "stream",
     "text": [
      "[0.96552545 0.97880334 0.99111891 0.95515601 0.94082927]\n",
      "Lasso CV mean score: 0.9662865957248814\n",
      "Lasso R2 on test data: 0.9728592917321962\n",
      "Lasso MSE: 132.50092790473673 Lasso RMSE: 11.51090473875693\n",
      "[0.96079095 0.97930595 0.99320344 0.95507474 0.940109  ]\n",
      "Ridge CV mean score: 0.9656968151032066\n",
      "Ridge R2 on test data: 0.9730865047461719\n",
      "Ridge MSE: 131.3916740530413 Ridge RMSE: 11.462620732321266\n"
     ]
    }
   ],
   "source": [
    "best_lasso_econ = Lasso(alpha = lasso_model_econ.best_params_.get('alpha'),max_iter=2000)\n",
    "lasso_cvscore_econ = cross_val_score(best_lasso_econ,x_train_econ,y_train_econ,cv=5)\n",
    "lasso_cvmean_econ = lasso_cvscore_econ.mean()\n",
    "print(lasso_cvscore_econ)\n",
    "print('Lasso CV mean score:',lasso_cvmean_econ)\n",
    "\n",
    "best_lasso_econ.fit(x_train_econ,y_train_econ)\n",
    "lasso_tscore_econ = best_lasso_econ.score(x_test_econ,y_test_econ)\n",
    "print('Lasso R2 on test data:',lasso_tscore_econ)\n",
    "\n",
    "y_hat_econ = best_lasso_econ.predict(x_test_econ)\n",
    "mse_econ = np.average((y_hat_econ - y_test_econ) ** 2)\n",
    "rmse_econ = np.sqrt(mse_econ)\n",
    "print ('Lasso MSE:',mse_econ,'Lasso RMSE:',rmse_econ)\n",
    "\n",
    "#可选练习：最佳参数的ridge模型\n",
    "best_ridge_econ = Lasso(alpha = ridge_model_econ.best_params_.get('alpha'),max_iter=2000)\n",
    "ridge_cvscore_econ = cross_val_score(best_ridge_econ,x_train_econ,y_train_econ,cv=5)\n",
    "ridge_cvmean_econ = np.mean(ridge_cvscore_econ)\n",
    "print(ridge_cvscore_econ)\n",
    "print('Ridge CV mean score:',ridge_cvmean_econ)\n",
    "\n",
    "best_ridge_econ.fit(x_train_econ,y_train_econ)\n",
    "ridge_tscore_econ = best_ridge_econ.score(x_test_econ,y_test_econ)\n",
    "print('Ridge R2 on test data:',ridge_tscore_econ)\n",
    "\n",
    "y_hat2_econ = best_ridge_econ.predict(x_test_econ)\n",
    "mse2_econ = np.average((y_hat2_econ - y_test_econ) ** 2)\n",
    "rmse2_econ = np.sqrt(mse2_econ)\n",
    "print ('Ridge MSE:',mse2_econ,'Ridge RMSE:',rmse2_econ)"
   ]
  },
  {
   "cell_type": "code",
   "execution_count": 57,
   "id": "14572ab4",
   "metadata": {},
   "outputs": [
    {
     "data": {
      "image/png": "[encoded data removed]",
      "text/plain": [
       "<Figure size 432x288 with 1 Axes>"
      ]
     },
     "metadata": {
      "needs_background": "light"
     },
     "output_type": "display_data"
    }
   ],
   "source": [
    "t = np.arange(len(x_test_econ))\n",
    "plt.plot(t, y_test_econ, 'r*', linewidth=2, label='Test')\n",
    "plt.plot(t, y_hat_econ, 'go', linewidth=2, label='Lasso Predict')\n",
    "plt.plot(t, lr_testpred_econ, 'b*', linewidth=2, label='Linear Regression Predict')\n",
    "plt.plot(t, y_hat2_econ, 'ys', linewidth=1, label='Ridge Predict')\n",
    "plt.legend(loc='upper right')\n",
    "plt.grid()\n",
    "plt.show()"
   ]
  },
  {
   "cell_type": "code",
   "execution_count": 58,
   "id": "d36fae25",
   "metadata": {},
   "outputs": [
    {
     "name": "stdout",
     "output_type": "stream",
     "text": [
      "Econ - Linear regression - CV test score(mean):  0.961955730489932\n",
      "Econ - Lasso - CV test score(mean):  0.9662865957248814\n",
      "Econ - Ridge - CV test score(mean):  0.9656968151032066\n",
      "Econ - Linear regression - R2 on test data:  0.973224368490891\n",
      "Econ - Lasso - R2 on test data:  0.9728592917321962\n",
      "Econ - Ridge - R2 on test data:  0.9730865047461719\n",
      "Econ - Linear regression - test RMSE:  130.71862330140073\n",
      "Econ - Lasso - test RMSE:  132.50092790473673\n",
      "Econ - Ridge - test RMSE:  131.3916740530413\n"
     ]
    }
   ],
   "source": [
    "print('Econ - Linear regression - CV test score(mean): ',np.mean(lr_cvscore_econ))\n",
    "print('Econ - Lasso - CV test score(mean): ',np.mean(lasso_cvscore_econ))\n",
    "print('Econ - Ridge - CV test score(mean): ',np.mean(ridge_cvscore_econ))\n",
    "\n",
    "print('Econ - Linear regression - R2 on test data: ',lr_tscore_econ)\n",
    "print('Econ - Lasso - R2 on test data: ',lasso_tscore_econ)\n",
    "print('Econ - Ridge - R2 on test data: ',ridge_tscore_econ)\n",
    "\n",
    "print('Econ - Linear regression - test RMSE: ',lr_mse_econ)\n",
    "print('Econ - Lasso - test RMSE: ',mse_econ)\n",
    "print('Econ - Ridge - test RMSE: ',mse2_econ)"
   ]
  },
  {
   "cell_type": "markdown",
   "id": "af30584e",
   "metadata": {},
   "source": [
    "更多参考：\n",
    "- LASSOCV：\n",
    "    https://scikit-learn.org/0.15/modules/generated/sklearn.linear_model.LassoCV.html\n",
    "- CV 迭代图：\n",
    "    https://scikit-learn.org/0.15/auto_examples/exercises/plot_cv_diabetes.html#example-exercises-plot-cv-diabetes-py"
   ]
  },
  {
   "cell_type": "markdown",
   "id": "93185d26",
   "metadata": {},
   "source": [
    "## 非线性回归"
   ]
  },
  {
   "cell_type": "code",
   "execution_count": 65,
   "id": "9f298b0d",
   "metadata": {},
   "outputs": [
    {
     "name": "stdout",
     "output_type": "stream",
     "text": [
      "[0.67304704 0.89317984 0.64131039 0.71441885 0.93569288]\n",
      "0.7715297989201183\n"
     ]
    }
   ],
   "source": [
    "'''多项式模型'''\n",
    "x_train_econ_sel = x_train_econ.iloc[:,:2]\n",
    "x_test_econ_sel = x_test_econ.iloc[:,:2]\n",
    "\n",
    "poly_feat = PolynomialFeatures(degree=2)\n",
    "'''Pipeline 模型转换器和估计器的构造'''\n",
    "pipe_mods = Pipeline([('poly_features',poly_feat),\\\n",
    "                      ('lr',LinearRegression())])\n",
    "\n",
    "pipe_mods.fit(x_train_econ_sel,y_train_econ)\n",
    "poly_tscore_econ = pipe_mods.score(x_test_econ_sel,y_test_econ)\n",
    "\n",
    "poly_cvpredict_econ = cross_val_predict(pipe_mods,x_train_econ_sel,y_train_econ,cv=5)\n",
    "poly_cvscore_econ = cross_val_score(pipe_mods,x_train_econ_sel,y_train_econ,cv=5,scoring='r2')\n",
    "poly_cvmean_econ = poly_cvscore_econ.mean()\n",
    "print(poly_cvscore_econ)\n",
    "print(poly_cvmean_econ)"
   ]
  },
  {
   "cell_type": "code",
   "execution_count": 4,
   "id": "482e55cf",
   "metadata": {},
   "outputs": [
    {
     "name": "stdout",
     "output_type": "stream",
     "text": [
      "系数a: 4.033966896607926\n",
      "系数b: 0.1300107625939959\n",
      "系数c: -0.32064158895712674\n"
     ]
    },
    {
     "data": {
      "image/png": "[encoded data removed]",
      "text/plain": [
       "<Figure size 432x288 with 1 Axes>"
      ]
     },
     "metadata": {
      "needs_background": "light"
     },
     "output_type": "display_data"
    }
   ],
   "source": [
    "'''非多项式非线性回归：\n",
    "a*e^bx+c拟合'''\n",
    "def func(x, a, b,c):\n",
    "    return a*np.exp(b*x)+c\n",
    "\n",
    "x = np.arange(1, 11, 1)\n",
    "y = np.array([3.98, 5.1, 5.85, 6.4, 7.4,8.6, 10, 10.2, 13.1, 14.5])\n",
    "'''非线性最小二乘法拟合'''\n",
    "popt, pcov = curve_fit(func, x, y)\n",
    "'''拟合系数'''\n",
    "a = popt[0]\n",
    "b = popt[1]\n",
    "c = popt[2]\n",
    "print('系数a:', a)\n",
    "print('系数b:', b)\n",
    "print('系数c:', c)\n",
    "\n",
    "y1 = func(x,a,b,c)\n",
    "'''显示a*e^bx+c拟合的绘图结果'''\n",
    "plt.plot(x, y, 'o',label='original values')\n",
    "plt.plot(x, y1, 'k',label='polyfit values')\n",
    "plt.xlabel('x')\n",
    "plt.xlabel('y')\n",
    "plt.title('curve_fit')\n",
    "plt.legend(loc=4)\n",
    "plt.show()\n"
   ]
  },
  {
   "cell_type": "code",
   "execution_count": 63,
   "id": "a4deaaeb",
   "metadata": {
    "scrolled": false
   },
   "outputs": [
    {
     "data": {
      "text/plain": [
       "Lasso                0.966287\n",
       "Ridge                0.965697\n",
       "Linear regression    0.961956\n",
       "Polynomial           0.771530\n",
       "dtype: float64"
      ]
     },
     "execution_count": 63,
     "metadata": {},
     "output_type": "execute_result"
    }
   ],
   "source": [
    "'''模型评估选择 lr，lasso，ridge，多项式等'''\n",
    "evalscore = {\n",
    "    'Linear regression':lr_cvscore_econ,\n",
    "    'Lasso':lasso_cvscore_econ,\n",
    "    'Ridge':ridge_cvscore_econ,\n",
    "    'Polynomial':poly_cvscore_econ\n",
    "}\n",
    "evalscore_df = pd.DataFrame(evalscore)\n",
    "evalscore_df\n",
    "\n",
    "#evalscore_df.plot.kde(alpha=0.6,figsize=(15,10))\n",
    "\n",
    "evalscore_df.mean().sort_values(ascending=False)"
   ]
  },
  {
   "cell_type": "code",
   "execution_count": 66,
   "id": "0b8cf1db",
   "metadata": {},
   "outputs": [
    {
     "data": {
      "text/html": [
       "<div>\n",
       "<style scoped>\n",
       "    .dataframe tbody tr th:only-of-type {\n",
       "        vertical-align: middle;\n",
       "    }\n",
       "\n",
       "    .dataframe tbody tr th {\n",
       "        vertical-align: top;\n",
       "    }\n",
       "\n",
       "    .dataframe thead th {\n",
       "        text-align: right;\n",
       "    }\n",
       "</style>\n",
       "<table border=\"1\" class=\"dataframe\">\n",
       "  <thead>\n",
       "    <tr style=\"text-align: right;\">\n",
       "      <th></th>\n",
       "      <th>score</th>\n",
       "    </tr>\n",
       "  </thead>\n",
       "  <tbody>\n",
       "    <tr>\n",
       "      <th>Linear regression</th>\n",
       "      <td>0.973224</td>\n",
       "    </tr>\n",
       "    <tr>\n",
       "      <th>Ridge</th>\n",
       "      <td>0.973087</td>\n",
       "    </tr>\n",
       "    <tr>\n",
       "      <th>Lasso</th>\n",
       "      <td>0.972859</td>\n",
       "    </tr>\n",
       "    <tr>\n",
       "      <th>Polynomial</th>\n",
       "      <td>0.905719</td>\n",
       "    </tr>\n",
       "  </tbody>\n",
       "</table>\n",
       "</div>"
      ],
      "text/plain": [
       "                      score\n",
       "Linear regression  0.973224\n",
       "Ridge              0.973087\n",
       "Lasso              0.972859\n",
       "Polynomial         0.905719"
      ]
     },
     "execution_count": 66,
     "metadata": {},
     "output_type": "execute_result"
    }
   ],
   "source": [
    "'''测试数据集，test score'''\n",
    "pred_score = {\n",
    "    'Linear regression':lr_tscore_econ,\n",
    "    'Lasso':lasso_tscore_econ,\n",
    "    'Ridge':ridge_tscore_econ,\n",
    "    'Polynomial':poly_tscore_econ\n",
    "}\n",
    "\n",
    "predscore_df = pd.DataFrame(pred_score,index=['score']).transpose()\n",
    "predscore_df\n",
    "\n",
    "predscore_df.sort_values(by='score',ascending=False)"
   ]
  },
  {
   "cell_type": "markdown",
   "id": "d7515c5f",
   "metadata": {},
   "source": [
    "## 逻辑回归"
   ]
  },
  {
   "cell_type": "code",
   "execution_count": 17,
   "id": "0a94be0b",
   "metadata": {
    "scrolled": true
   },
   "outputs": [
    {
     "data": {
      "text/html": [
       "<div>\n",
       "<style scoped>\n",
       "    .dataframe tbody tr th:only-of-type {\n",
       "        vertical-align: middle;\n",
       "    }\n",
       "\n",
       "    .dataframe tbody tr th {\n",
       "        vertical-align: top;\n",
       "    }\n",
       "\n",
       "    .dataframe thead th {\n",
       "        text-align: right;\n",
       "    }\n",
       "</style>\n",
       "<table border=\"1\" class=\"dataframe\">\n",
       "  <thead>\n",
       "    <tr style=\"text-align: right;\">\n",
       "      <th></th>\n",
       "      <th>Churn</th>\n",
       "      <th>AccountWeeks</th>\n",
       "      <th>ContractRenewal</th>\n",
       "      <th>DataPlan</th>\n",
       "      <th>DataUsage</th>\n",
       "      <th>CustServCalls</th>\n",
       "      <th>DayMins</th>\n",
       "      <th>DayCalls</th>\n",
       "      <th>MonthlyCharge</th>\n",
       "      <th>OverageFee</th>\n",
       "      <th>RoamMins</th>\n",
       "    </tr>\n",
       "  </thead>\n",
       "  <tbody>\n",
       "    <tr>\n",
       "      <th>0</th>\n",
       "      <td>0</td>\n",
       "      <td>128</td>\n",
       "      <td>1</td>\n",
       "      <td>1</td>\n",
       "      <td>2.70</td>\n",
       "      <td>1</td>\n",
       "      <td>265.1</td>\n",
       "      <td>110</td>\n",
       "      <td>89.0</td>\n",
       "      <td>9.87</td>\n",
       "      <td>10.0</td>\n",
       "    </tr>\n",
       "    <tr>\n",
       "      <th>1</th>\n",
       "      <td>0</td>\n",
       "      <td>107</td>\n",
       "      <td>1</td>\n",
       "      <td>1</td>\n",
       "      <td>3.70</td>\n",
       "      <td>1</td>\n",
       "      <td>161.6</td>\n",
       "      <td>123</td>\n",
       "      <td>82.0</td>\n",
       "      <td>9.78</td>\n",
       "      <td>13.7</td>\n",
       "    </tr>\n",
       "    <tr>\n",
       "      <th>2</th>\n",
       "      <td>0</td>\n",
       "      <td>137</td>\n",
       "      <td>1</td>\n",
       "      <td>0</td>\n",
       "      <td>0.00</td>\n",
       "      <td>0</td>\n",
       "      <td>243.4</td>\n",
       "      <td>114</td>\n",
       "      <td>52.0</td>\n",
       "      <td>6.06</td>\n",
       "      <td>12.2</td>\n",
       "    </tr>\n",
       "    <tr>\n",
       "      <th>3</th>\n",
       "      <td>0</td>\n",
       "      <td>84</td>\n",
       "      <td>0</td>\n",
       "      <td>0</td>\n",
       "      <td>0.00</td>\n",
       "      <td>2</td>\n",
       "      <td>299.4</td>\n",
       "      <td>71</td>\n",
       "      <td>57.0</td>\n",
       "      <td>3.10</td>\n",
       "      <td>6.6</td>\n",
       "    </tr>\n",
       "    <tr>\n",
       "      <th>4</th>\n",
       "      <td>0</td>\n",
       "      <td>75</td>\n",
       "      <td>0</td>\n",
       "      <td>0</td>\n",
       "      <td>0.00</td>\n",
       "      <td>3</td>\n",
       "      <td>166.7</td>\n",
       "      <td>113</td>\n",
       "      <td>41.0</td>\n",
       "      <td>7.42</td>\n",
       "      <td>10.1</td>\n",
       "    </tr>\n",
       "    <tr>\n",
       "      <th>...</th>\n",
       "      <td>...</td>\n",
       "      <td>...</td>\n",
       "      <td>...</td>\n",
       "      <td>...</td>\n",
       "      <td>...</td>\n",
       "      <td>...</td>\n",
       "      <td>...</td>\n",
       "      <td>...</td>\n",
       "      <td>...</td>\n",
       "      <td>...</td>\n",
       "      <td>...</td>\n",
       "    </tr>\n",
       "    <tr>\n",
       "      <th>3328</th>\n",
       "      <td>0</td>\n",
       "      <td>192</td>\n",
       "      <td>1</td>\n",
       "      <td>1</td>\n",
       "      <td>2.67</td>\n",
       "      <td>2</td>\n",
       "      <td>156.2</td>\n",
       "      <td>77</td>\n",
       "      <td>71.7</td>\n",
       "      <td>10.78</td>\n",
       "      <td>9.9</td>\n",
       "    </tr>\n",
       "    <tr>\n",
       "      <th>3329</th>\n",
       "      <td>0</td>\n",
       "      <td>68</td>\n",
       "      <td>1</td>\n",
       "      <td>0</td>\n",
       "      <td>0.34</td>\n",
       "      <td>3</td>\n",
       "      <td>231.1</td>\n",
       "      <td>57</td>\n",
       "      <td>56.4</td>\n",
       "      <td>7.67</td>\n",
       "      <td>9.6</td>\n",
       "    </tr>\n",
       "    <tr>\n",
       "      <th>3330</th>\n",
       "      <td>0</td>\n",
       "      <td>28</td>\n",
       "      <td>1</td>\n",
       "      <td>0</td>\n",
       "      <td>0.00</td>\n",
       "      <td>2</td>\n",
       "      <td>180.8</td>\n",
       "      <td>109</td>\n",
       "      <td>56.0</td>\n",
       "      <td>14.44</td>\n",
       "      <td>14.1</td>\n",
       "    </tr>\n",
       "    <tr>\n",
       "      <th>3331</th>\n",
       "      <td>0</td>\n",
       "      <td>184</td>\n",
       "      <td>0</td>\n",
       "      <td>0</td>\n",
       "      <td>0.00</td>\n",
       "      <td>2</td>\n",
       "      <td>213.8</td>\n",
       "      <td>105</td>\n",
       "      <td>50.0</td>\n",
       "      <td>7.98</td>\n",
       "      <td>5.0</td>\n",
       "    </tr>\n",
       "    <tr>\n",
       "      <th>3332</th>\n",
       "      <td>0</td>\n",
       "      <td>74</td>\n",
       "      <td>1</td>\n",
       "      <td>1</td>\n",
       "      <td>3.70</td>\n",
       "      <td>0</td>\n",
       "      <td>234.4</td>\n",
       "      <td>113</td>\n",
       "      <td>100.0</td>\n",
       "      <td>13.30</td>\n",
       "      <td>13.7</td>\n",
       "    </tr>\n",
       "  </tbody>\n",
       "</table>\n",
       "<p>3333 rows × 11 columns</p>\n",
       "</div>"
      ],
      "text/plain": [
       "      Churn  AccountWeeks  ContractRenewal  DataPlan  DataUsage  \\\n",
       "0         0           128                1         1       2.70   \n",
       "1         0           107                1         1       3.70   \n",
       "2         0           137                1         0       0.00   \n",
       "3         0            84                0         0       0.00   \n",
       "4         0            75                0         0       0.00   \n",
       "...     ...           ...              ...       ...        ...   \n",
       "3328      0           192                1         1       2.67   \n",
       "3329      0            68                1         0       0.34   \n",
       "3330      0            28                1         0       0.00   \n",
       "3331      0           184                0         0       0.00   \n",
       "3332      0            74                1         1       3.70   \n",
       "\n",
       "      CustServCalls  DayMins  DayCalls  MonthlyCharge  OverageFee  RoamMins  \n",
       "0                 1    265.1       110           89.0        9.87      10.0  \n",
       "1                 1    161.6       123           82.0        9.78      13.7  \n",
       "2                 0    243.4       114           52.0        6.06      12.2  \n",
       "3                 2    299.4        71           57.0        3.10       6.6  \n",
       "4                 3    166.7       113           41.0        7.42      10.1  \n",
       "...             ...      ...       ...            ...         ...       ...  \n",
       "3328              2    156.2        77           71.7       10.78       9.9  \n",
       "3329              3    231.1        57           56.4        7.67       9.6  \n",
       "3330              2    180.8       109           56.0       14.44      14.1  \n",
       "3331              2    213.8       105           50.0        7.98       5.0  \n",
       "3332              0    234.4       113          100.0       13.30      13.7  \n",
       "\n",
       "[3333 rows x 11 columns]"
      ]
     },
     "execution_count": 17,
     "metadata": {},
     "output_type": "execute_result"
    }
   ],
   "source": [
    "churn_data"
   ]
  },
  {
   "cell_type": "code",
   "execution_count": 18,
   "id": "18fe6940",
   "metadata": {},
   "outputs": [
    {
     "data": {
      "text/plain": [
       "0    2850\n",
       "1     483\n",
       "Name: Churn, dtype: int64"
      ]
     },
     "execution_count": 18,
     "metadata": {},
     "output_type": "execute_result"
    }
   ],
   "source": [
    "churn_data.Churn.value_counts()"
   ]
  },
  {
   "cell_type": "code",
   "execution_count": 19,
   "id": "30cf24e5",
   "metadata": {
    "scrolled": true
   },
   "outputs": [
    {
     "data": {
      "text/plain": [
       "0    2850\n",
       "1    2850\n",
       "Name: Churn, dtype: int64"
      ]
     },
     "execution_count": 19,
     "metadata": {},
     "output_type": "execute_result"
    }
   ],
   "source": [
    "'''目标预测列为不平衡数据'''\n",
    "oversampler = SMOTE(random_state = 3)\n",
    "osamp_X,osamp_y = oversampler.fit_resample(churn_data.iloc[:,1:],churn_data.Churn)\n",
    "osamp_y.value_counts()"
   ]
  },
  {
   "cell_type": "code",
   "execution_count": 20,
   "id": "b5a01482",
   "metadata": {},
   "outputs": [
    {
     "name": "stdout",
     "output_type": "stream",
     "text": [
      "[[0 0 1 ... 0 0 0]\n",
      " [0 0 1 ... 0 1 0]]\n",
      "[[0.69187401 0.30812599]\n",
      " [0.89306155 0.10693845]\n",
      " [0.09475531 0.90524469]\n",
      " ...\n",
      " [0.85066435 0.14933565]\n",
      " [0.05816368 0.94183632]\n",
      " [0.70111836 0.29888164]]\n"
     ]
    }
   ],
   "source": [
    "x_train_churn,x_test_churn,y_train_churn,y_test_churn = \\\n",
    "            train_test_split(osamp_X,osamp_y,\\\n",
    "                            test_size = 0.2,random_state = 2)\n",
    "\n",
    "logreg = LogisticRegression(solver='liblinear')\n",
    "logreg.fit(x_train_churn,y_train_churn)\n",
    "y_testpred = logreg.predict(x_test_churn)\n",
    "predprob = logreg.predict_proba(x_test_churn)\n",
    "print(np.vstack((y_test_churn,y_testpred)))\n",
    "print(predprob)"
   ]
  },
  {
   "cell_type": "code",
   "execution_count": 22,
   "id": "ced46854",
   "metadata": {
    "scrolled": true
   },
   "outputs": [
    {
     "name": "stdout",
     "output_type": "stream",
     "text": [
      "测试数据集的准确率为：0.77\n",
      "              precision    recall  f1-score   support\n",
      "\n",
      "           0       0.77      0.78      0.78       568\n",
      "           1       0.78      0.77      0.77       572\n",
      "\n",
      "    accuracy                           0.77      1140\n",
      "   macro avg       0.77      0.77      0.77      1140\n",
      "weighted avg       0.77      0.77      0.77      1140\n",
      "\n"
     ]
    }
   ],
   "source": [
    "'''预测性能分析:score() return mean accuracy on the given test data and labels'''\n",
    "print('测试数据集的准确率为：{:.2f}'.format(logreg.score(x_test_churn,y_test_churn)))#%.2f\n",
    "print(classification_report(y_test_churn,y_testpred))"
   ]
  },
  {
   "cell_type": "code",
   "execution_count": 23,
   "id": "66dc1d1d",
   "metadata": {
    "scrolled": true
   },
   "outputs": [
    {
     "name": "stdout",
     "output_type": "stream",
     "text": [
      "[[444 124]\n",
      " [133 439]]\n"
     ]
    },
    {
     "data": {
      "text/plain": [
       "<AxesSubplot:>"
      ]
     },
     "execution_count": 23,
     "metadata": {},
     "output_type": "execute_result"
    },
    {
     "data": {
      "image/png": "[encoded data removed]",
      "text/plain": [
       "<Figure size 432x288 with 2 Axes>"
      ]
     },
     "metadata": {
      "needs_background": "light"
     },
     "output_type": "display_data"
    }
   ],
   "source": [
    "'''confusion matrix 混淆矩阵'''\n",
    "confmat = confusion_matrix(y_test_churn,y_testpred)\n",
    "print(confmat)\n",
    "sns.heatmap(confmat,annot=True,fmt='d')"
   ]
  },
  {
   "cell_type": "code",
   "execution_count": 24,
   "id": "0f4c4b69",
   "metadata": {
    "scrolled": false
   },
   "outputs": [
    {
     "name": "stdout",
     "output_type": "stream",
     "text": [
      "Area under curve: 0.774586329163794\n"
     ]
    },
    {
     "data": {
      "text/plain": [
       "Text(0.5, 1.0, 'receiver operating characteristic curve')"
      ]
     },
     "execution_count": 24,
     "metadata": {},
     "output_type": "execute_result"
    },
    {
     "data": {
      "image/png": "[encoded data removed]",
      "text/plain": [
       "<Figure size 432x288 with 1 Axes>"
      ]
     },
     "metadata": {
      "needs_background": "dark"
     },
     "output_type": "display_data"
    }
   ],
   "source": [
    "'''ROC曲线'''\n",
    "roc_score = roc_auc_score(y_test_churn,y_testpred)\n",
    "print('Area under curve:',roc_score)\n",
    "\n",
    "fpr,tpr,thred = roc_curve(y_test_churn,predprob[:,1])\n",
    "trace = sns.lineplot(x = fpr, y = tpr)\n",
    "trace_base = sns.lineplot(x = [0,1], y = [0,1])\n",
    "plt.xlabel('False positive rate',color='yellow')\n",
    "plt.ylabel('True positive rate',color='yellow')\n",
    "plt.xticks(color='yellow')\n",
    "plt.yticks(color='yellow')\n",
    "plt.title('receiver operating characteristic curve',color='yellow')"
   ]
  },
  {
   "cell_type": "markdown",
   "id": "20836492",
   "metadata": {},
   "source": [
    "### 补充参考：集成学习回归"
   ]
  },
  {
   "cell_type": "code",
   "execution_count": 10,
   "id": "6c776640",
   "metadata": {},
   "outputs": [],
   "source": [
    "from sklearn.ensemble import RandomForestRegressor,GradientBoostingRegressor\n",
    "from lightgbm import LGBMRegressor\n",
    "from xgboost import plot_importance\n",
    "from xgboost.sklearn import XGBRegressor"
   ]
  },
  {
   "cell_type": "code",
   "execution_count": 50,
   "id": "173295f5",
   "metadata": {},
   "outputs": [
    {
     "name": "stdout",
     "output_type": "stream",
     "text": [
      "Train score: 0.7736832263756915\n",
      "Test score: 0.7410092593647275\n"
     ]
    }
   ],
   "source": [
    "rfreg = RandomForestRegressor(max_depth = 5,random_state=15,n_estimators=50,min_weight_fraction_leaf=0.28)#max_depth=15,20,50?\n",
    "rfreg.fit(x_train_econ,y_train_econ)\n",
    "print('Train score:',rfreg.score(x_train_econ,y_train_econ))\n",
    "print('Test score:',rfreg.score(x_test_econ,y_test_econ))"
   ]
  },
  {
   "cell_type": "markdown",
   "id": "32cd7526",
   "metadata": {},
   "source": [
    "更多参数请参考：https://scikit-learn.org.cn/view/650.html\n",
    "\n",
    "调参：https://scikit-learn.org/stable/modules/ensemble.html#random-forest-parameters"
   ]
  },
  {
   "cell_type": "code",
   "execution_count": 145,
   "id": "c90289a8",
   "metadata": {},
   "outputs": [
    {
     "name": "stdout",
     "output_type": "stream",
     "text": [
      "Train score: 0.976710024659649\n",
      "Test score: 0.9224886704074565\n"
     ]
    }
   ],
   "source": [
    "gbreg = GradientBoostingRegressor(max_depth=10,random_state=15,n_estimators=20,subsample=0.7)#max_depth:5,10，15\n",
    "gbreg.fit(x_train_econ,y_train_econ)\n",
    "print('Train score:',gbreg.score(x_train_econ,y_train_econ))\n",
    "print('Test score:',gbreg.score(x_test_econ,y_test_econ))"
   ]
  },
  {
   "cell_type": "code",
   "execution_count": 192,
   "id": "455c763e",
   "metadata": {},
   "outputs": [
    {
     "name": "stdout",
     "output_type": "stream",
     "text": [
      "Train score: 0.9985417366599022\n",
      "Test score: 0.9377154106361095\n"
     ]
    }
   ],
   "source": [
    "xgbreg = XGBRegressor(max_depth=5,n_estimators = 30,random_state=23,reg_alpha=0.1,reg_lambda=0.1,min_child_weight=2, gamma=0, subsample=0.8, colsample_bytree=0.8)\n",
    "xgbreg.fit(x_train_econ,y_train_econ)\n",
    "print('Train score:',xgbreg.score(x_train_econ,y_train_econ))\n",
    "print('Test score:',xgbreg.score(x_test_econ,y_test_econ))\n"
   ]
  },
  {
   "cell_type": "markdown",
   "id": "e2b6911d",
   "metadata": {},
   "source": [
    "更多调参请参考：\n",
    "https://blog.csdn.net/csiao_Bing/article/details/84978725\n",
    "\n",
    "https://zhuanlan.zhihu.com/p/297751352"
   ]
  },
  {
   "cell_type": "markdown",
   "id": "895640eb",
   "metadata": {},
   "source": [
    "LGBMRegressor调参参考：\n",
    "\n",
    "https://developer.aliyun.com/article/798857\n",
    "\n",
    "https://baijiahao.baidu.com/s?id=1669714465634642214&wfr=spider&for=pc\n",
    "\n",
    "https://blog.csdn.net/weixin_42163563/article/details/121197887\n",
    "\n",
    "https://cloud.tencent.com/edu/learning/course-2439-39689"
   ]
  }
 ],
 "metadata": {
  "kernelspec": {
   "display_name": "Python 3 (ipykernel)",
   "language": "python",
   "name": "python3"
  },
  "language_info": {
   "codemirror_mode": {
    "name": "ipython",
    "version": 3
   },
   "file_extension": ".py",
   "mimetype": "text/x-python",
   "name": "python",
   "nbconvert_exporter": "python",
   "pygments_lexer": "ipython3",
   "version": "3.9.12"
  }
 },
 "nbformat": 4,
 "nbformat_minor": 5
}
